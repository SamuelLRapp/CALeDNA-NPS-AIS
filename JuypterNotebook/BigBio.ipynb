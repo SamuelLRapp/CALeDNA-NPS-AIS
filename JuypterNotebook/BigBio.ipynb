{
 "cells": [
  {
   "cell_type": "code",
   "execution_count": 1,
   "metadata": {},
   "outputs": [
    {
     "name": "stdout",
     "output_type": "stream",
     "text": [
      "Requirement already satisfied: opentree in /Users/samuelrapp/miniconda3/lib/python3.8/site-packages (0.0.3)\n",
      "Requirement already satisfied: DendroPy>=4.4.0 in /Users/samuelrapp/miniconda3/lib/python3.8/site-packages (from opentree) (4.5.1)\n",
      "Requirement already satisfied: setuptools in /Users/samuelrapp/miniconda3/lib/python3.8/site-packages (from opentree) (50.3.1.post20201107)\n",
      "Requirement already satisfied: requests>=2.18 in /Users/samuelrapp/miniconda3/lib/python3.8/site-packages (from opentree) (2.24.0)\n",
      "Requirement already satisfied: certifi>=2017.4.17 in /Users/samuelrapp/miniconda3/lib/python3.8/site-packages (from requests>=2.18->opentree) (2020.12.5)\n",
      "Requirement already satisfied: chardet<4,>=3.0.2 in /Users/samuelrapp/miniconda3/lib/python3.8/site-packages (from requests>=2.18->opentree) (3.0.4)\n",
      "Requirement already satisfied: urllib3!=1.25.0,!=1.25.1,<1.26,>=1.21.1 in /Users/samuelrapp/miniconda3/lib/python3.8/site-packages (from requests>=2.18->opentree) (1.25.11)\n",
      "Requirement already satisfied: idna<3,>=2.5 in /Users/samuelrapp/miniconda3/lib/python3.8/site-packages (from requests>=2.18->opentree) (2.10)\n"
     ]
    }
   ],
   "source": [
    "!pip install opentree"
   ]
  },
  {
   "cell_type": "code",
   "execution_count": 2,
   "metadata": {},
   "outputs": [],
   "source": [
    "from opentree import OT"
   ]
  },
  {
   "cell_type": "markdown",
   "metadata": {},
   "source": [
    "Get the list of taxa from a textfile.  "
   ]
  },
  {
   "cell_type": "code",
   "execution_count": 3,
   "metadata": {},
   "outputs": [],
   "source": [
    "fi = open(\"CALeDNAformatTwierdattempt.txt\").readlines()"
   ]
  },
  {
   "cell_type": "code",
   "execution_count": 4,
   "metadata": {},
   "outputs": [
    {
     "data": {
      "text/plain": [
       "['Eukaryota',\n",
       " 'Chlorophyta',\n",
       " 'Ulvophyceae',\n",
       " 'Bryopsidales',\n",
       " 'Codiaceae',\n",
       " 'Codium',\n",
       " 'Codium fragile subsp. tomentosoides\\n']"
      ]
     },
     "execution_count": 4,
     "metadata": {},
     "output_type": "execute_result"
    }
   ],
   "source": [
    "fi[0].split(';')"
   ]
  },
  {
   "cell_type": "code",
   "execution_count": 6,
   "metadata": {},
   "outputs": [
    {
     "data": {
      "text/plain": [
       "'Codiaceae'"
      ]
     },
     "execution_count": 6,
     "metadata": {},
     "output_type": "execute_result"
    }
   ],
   "source": [
    "fi[0].split(';')[4]#[1:4]"
   ]
  },
  {
   "cell_type": "code",
   "execution_count": 9,
   "metadata": {},
   "outputs": [],
   "source": [
    "all_genera = set()\n",
    "for taxon in fi:\n",
    "    try:\n",
    "        genus = taxon.split(';')\n",
    "        print(OT.get_ottid_from_name(genus))[4]\n",
    "        all_genera.add(genus)\n",
    "    except:\n",
    "        pass\n",
    "        "
   ]
  },
  {
   "cell_type": "code",
   "execution_count": 8,
   "metadata": {},
   "outputs": [
    {
     "data": {
      "text/plain": [
       "0"
      ]
     },
     "execution_count": 8,
     "metadata": {},
     "output_type": "execute_result"
    }
   ],
   "source": [
    "len(all_genera)"
   ]
  },
  {
   "cell_type": "code",
   "execution_count": 14,
   "metadata": {},
   "outputs": [
    {
     "ename": "IndexError",
     "evalue": "list index out of range",
     "output_type": "error",
     "traceback": [
      "\u001b[0;31m---------------------------------------------------------------------------\u001b[0m",
      "\u001b[0;31mIndexError\u001b[0m                                Traceback (most recent call last)",
      "\u001b[0;32m<ipython-input-14-24f8de8154e7>\u001b[0m in \u001b[0;36m<module>\u001b[0;34m\u001b[0m\n\u001b[0;32m----> 1\u001b[0;31m \u001b[0mOT\u001b[0m\u001b[0;34m.\u001b[0m\u001b[0mget_ottid_from_name\u001b[0m\u001b[0;34m(\u001b[0m\u001b[0;34m'Sprivivirus'\u001b[0m\u001b[0;34m)\u001b[0m\u001b[0;34m\u001b[0m\u001b[0;34m\u001b[0m\u001b[0m\n\u001b[0m",
      "\u001b[0;32m~/miniconda3/lib/python3.8/site-packages/opentree/ot_object.py\u001b[0m in \u001b[0;36mget_ottid_from_name\u001b[0;34m(self, spp_name, exact)\u001b[0m\n\u001b[1;32m    178\u001b[0m         \u001b[0;32mif\u001b[0m \u001b[0mres\u001b[0m\u001b[0;34m.\u001b[0m\u001b[0mstatus_code\u001b[0m \u001b[0;34m==\u001b[0m \u001b[0;36m200\u001b[0m\u001b[0;34m:\u001b[0m\u001b[0;34m\u001b[0m\u001b[0;34m\u001b[0m\u001b[0m\n\u001b[1;32m    179\u001b[0m             \u001b[0;32mif\u001b[0m \u001b[0mlen\u001b[0m\u001b[0;34m(\u001b[0m\u001b[0mres\u001b[0m\u001b[0;34m.\u001b[0m\u001b[0mresponse_dict\u001b[0m\u001b[0;34m[\u001b[0m\u001b[0;34m'results'\u001b[0m\u001b[0;34m]\u001b[0m\u001b[0;34m)\u001b[0m \u001b[0;34m>\u001b[0m \u001b[0;36m0\u001b[0m\u001b[0;34m:\u001b[0m\u001b[0;34m\u001b[0m\u001b[0;34m\u001b[0m\u001b[0m\n\u001b[0;32m--> 180\u001b[0;31m                 \u001b[0mott_id\u001b[0m \u001b[0;34m=\u001b[0m \u001b[0mint\u001b[0m\u001b[0;34m(\u001b[0m\u001b[0mres\u001b[0m\u001b[0;34m.\u001b[0m\u001b[0mresponse_dict\u001b[0m\u001b[0;34m[\u001b[0m\u001b[0;34m'results'\u001b[0m\u001b[0;34m]\u001b[0m\u001b[0;34m[\u001b[0m\u001b[0;36m0\u001b[0m\u001b[0;34m]\u001b[0m\u001b[0;34m[\u001b[0m\u001b[0;34m'matches'\u001b[0m\u001b[0;34m]\u001b[0m\u001b[0;34m[\u001b[0m\u001b[0;36m0\u001b[0m\u001b[0;34m]\u001b[0m\u001b[0;34m[\u001b[0m\u001b[0;34m'taxon'\u001b[0m\u001b[0;34m]\u001b[0m\u001b[0;34m[\u001b[0m\u001b[0;34m'ott_id'\u001b[0m\u001b[0;34m]\u001b[0m\u001b[0;34m)\u001b[0m\u001b[0;34m\u001b[0m\u001b[0;34m\u001b[0m\u001b[0m\n\u001b[0m\u001b[1;32m    181\u001b[0m                 \u001b[0;32mreturn\u001b[0m \u001b[0mott_id\u001b[0m\u001b[0;34m\u001b[0m\u001b[0;34m\u001b[0m\u001b[0m\n\u001b[1;32m    182\u001b[0m             \u001b[0;32melse\u001b[0m\u001b[0;34m:\u001b[0m\u001b[0;34m\u001b[0m\u001b[0;34m\u001b[0m\u001b[0m\n",
      "\u001b[0;31mIndexError\u001b[0m: list index out of range"
     ]
    }
   ],
   "source": [
    "OT.get_ottid_from_name('Sprivivirus')"
   ]
  },
  {
   "cell_type": "code",
   "execution_count": 10,
   "metadata": {},
   "outputs": [],
   "source": [
    "def get_matchdict_from_taxlist(list_of_taxa):\n",
    "        \"\"\"Returns tree object\n",
    "        \"\"\"\n",
    "        matches = dict()\n",
    "        failed = set()\n",
    "        for tax in list_of_taxa:\n",
    "            tax = tax.strip()\n",
    "            print(tax)\n",
    "            if tax != '':\n",
    "                ott_id = OT.get_ottid_from_name(genus)\n",
    "                print(ott_id)\n",
    "                matches[genus] = ott_id"
   ]
  },
  {
   "cell_type": "code",
   "execution_count": 11,
   "metadata": {},
   "outputs": [],
   "source": [
    "#all_genera_test = set()\n",
    "#all_genera_test.add(\"Maeotias\")\n",
    "#type(all_genera_test)\n",
    "#print(all_genera_test)\n",
    "#print(all_genera)\n",
    "#get_matchdict_from_taxlist(all_genera_test)"
   ]
  },
  {
   "cell_type": "code",
   "execution_count": 11,
   "metadata": {},
   "outputs": [
    {
     "ename": "NameError",
     "evalue": "name 'length' is not defined",
     "output_type": "error",
     "traceback": [
      "\u001b[0;31m---------------------------------------------------------------------------\u001b[0m",
      "\u001b[0;31mNameError\u001b[0m                                 Traceback (most recent call last)",
      "\u001b[0;32m<ipython-input-11-4c1acfd823f1>\u001b[0m in \u001b[0;36m<module>\u001b[0;34m\u001b[0m\n\u001b[0;32m----> 1\u001b[0;31m \u001b[0mlength\u001b[0m\u001b[0;34m(\u001b[0m\u001b[0mall_genera\u001b[0m\u001b[0;34m)\u001b[0m\u001b[0;34m\u001b[0m\u001b[0;34m\u001b[0m\u001b[0m\n\u001b[0m\u001b[1;32m      2\u001b[0m \u001b[0mget_matchdict_from_taxlist\u001b[0m\u001b[0;34m(\u001b[0m\u001b[0mall_genera\u001b[0m\u001b[0;34m)\u001b[0m\u001b[0;34m\u001b[0m\u001b[0;34m\u001b[0m\u001b[0m\n",
      "\u001b[0;31mNameError\u001b[0m: name 'length' is not defined"
     ]
    }
   ],
   "source": [
    "get_matchdict_from_taxlist(all_genera)"
   ]
  },
  {
   "cell_type": "code",
   "execution_count": null,
   "metadata": {},
   "outputs": [],
   "source": [
    "matches = dict()\n",
    "ottid_to_genus = dict()\n",
    "for genus in all_genera:\n",
    "    if len(genus) > 2:\n",
    "        #try:\n",
    "            ott_id = OT.get_ottid_from_name(genus)\n",
    "            ottid_to_genus['ott{}'.format(ott_id)]=genus\n",
    "            matches[genus] = ott_id\n",
    "        #except:\n",
    "        #    print(\"Failed to get an ottid for {}\".format(genus))"
   ]
  },
  {
   "cell_type": "code",
   "execution_count": 13,
   "metadata": {},
   "outputs": [
    {
     "data": {
      "text/plain": [
       "519"
      ]
     },
     "execution_count": 13,
     "metadata": {},
     "output_type": "execute_result"
    }
   ],
   "source": [
    "len(all_genera)"
   ]
  },
  {
   "cell_type": "code",
   "execution_count": null,
   "metadata": {},
   "outputs": [],
   "source": [
    "output = OT.synth_induced_tree(ott_ids=list(matches.values()),  label_format='name_and_id')"
   ]
  },
  {
   "cell_type": "code",
   "execution_count": null,
   "metadata": {},
   "outputs": [],
   "source": [
    "#Create a dictionary that matches the taxa that are returned with the input taxa requested.\n",
    "relabel = dict()\n",
    "broken = output.response_dict['broken']\n",
    "for taxon in broken:\n",
    "    remap = broken[taxon]\n",
    "    if remap.startswith('mrca'):\n",
    "        if remap not in relabel:\n",
    "            relabel[remap] = []\n",
    "        relabel[remap].append(\"{} {}\".format(ottid_to_genus[taxon], taxon))\n",
    "    if remap.startswith('ott'):\n",
    "        if remap not in relabel:\n",
    "            relabel[remap] = []\n",
    "        relabel[remap].append(\"{} {}\".format(ottid_to_genus[taxon], taxon))"
   ]
  },
  {
   "cell_type": "code",
   "execution_count": null,
   "metadata": {},
   "outputs": [],
   "source": [
    "import copy\n",
    "backuptree = copy.deepcopy(output.tree)"
   ]
  },
  {
   "cell_type": "code",
   "execution_count": null,
   "metadata": {},
   "outputs": [],
   "source": [
    "#Gos through each taxon in teh tree that is returned, and matches it to the rquested genus or genera, and adds those to the label\n",
    "for taxon in backuptree.taxon_namespace:\n",
    "    if taxon.label.startswith('mrca'):\n",
    "        taxon.label = 'MRCA of taxa in '+' '.join(relabel[taxon.label])\n",
    "    else:\n",
    "        ott = taxon.label.split()[-1]\n",
    "        if ott in relabel:\n",
    "            added_taxa = ' MRCA of taxa in '+' '.join(relabel[ott])\n",
    "            taxon.label = taxon.label + added_taxa"
   ]
  },
  {
   "cell_type": "code",
   "execution_count": null,
   "metadata": {},
   "outputs": [],
   "source": [
    "# Some characters in names mess up newick tree readers\n",
    "def remove_problem_characters(instr, prob_char = \"():#\", replace_w = '?'):\n",
    "    problem_characters = set(prob_char)\n",
    "    for char in problem_characters:\n",
    "        instr = instr.replace(char,replace_w)\n",
    "    return instr"
   ]
  },
  {
   "cell_type": "code",
   "execution_count": null,
   "metadata": {},
   "outputs": [],
   "source": [
    "#Some of these taxon names are still causing issues...\n",
    "for taxon in backuptree.taxon_namespace:\n",
    "    taxon.label = remove_problem_characters(taxon.label)\n",
    "\n",
    "for node in backuptree:\n",
    "    if node.label:\n",
    "        node.label = remove_problem_characters(node.label)"
   ]
  },
  {
   "cell_type": "code",
   "execution_count": null,
   "metadata": {},
   "outputs": [],
   "source": [
    "backuptree.print_plot(width=100)\n",
    "treefile = \"bigbio_clean.tre\"\n",
    "backuptree.write(path = treefile, schema = \"newick\")"
   ]
  },
  {
   "cell_type": "code",
   "execution_count": null,
   "metadata": {},
   "outputs": [],
   "source": [
    "studies = output.response_dict['supporting_studies']\n",
    "cites = OT.get_citations(studies) #this can be a bit slow\n",
    "print(cites)"
   ]
  },
  {
   "cell_type": "code",
   "execution_count": null,
   "metadata": {},
   "outputs": [],
   "source": []
  },
  {
   "cell_type": "code",
   "execution_count": null,
   "metadata": {},
   "outputs": [],
   "source": []
  },
  {
   "cell_type": "code",
   "execution_count": null,
   "metadata": {},
   "outputs": [],
   "source": []
  },
  {
   "cell_type": "code",
   "execution_count": null,
   "metadata": {},
   "outputs": [],
   "source": []
  }
 ],
 "metadata": {
  "kernelspec": {
   "display_name": "Python 3",
   "language": "python",
   "name": "python3"
  },
  "language_info": {
   "codemirror_mode": {
    "name": "ipython",
    "version": 3
   },
   "file_extension": ".py",
   "mimetype": "text/x-python",
   "name": "python",
   "nbconvert_exporter": "python",
   "pygments_lexer": "ipython3",
   "version": "3.8.5"
  }
 },
 "nbformat": 4,
 "nbformat_minor": 2
}
