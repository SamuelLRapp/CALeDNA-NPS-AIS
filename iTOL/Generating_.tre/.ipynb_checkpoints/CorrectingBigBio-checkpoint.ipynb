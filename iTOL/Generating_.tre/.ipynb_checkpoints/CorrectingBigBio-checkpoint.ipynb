{
 "cells": [
  {
   "cell_type": "code",
   "execution_count": null,
   "metadata": {},
   "outputs": [],
   "source": [
    "#!pip install opentree #I don't run this line\n",
    "\n",
    "#instead of running !pip install I followed the instructions found https://github.com/OpenTreeOfLife/python-opentree/blob/main/INSTALL.md\n",
    "#when I want to run this code with the newer opentree, I run source env/bin/activate in the ^clone of the above repository, then navigate to this file and open it.\n",
    "#I can tell if I have activated the virtual env if the command line starts '(env)'"
   ]
  },
  {
   "cell_type": "code",
   "execution_count": 2,
   "metadata": {},
   "outputs": [],
   "source": [
    "from opentree import OT"
   ]
  },
  {
   "cell_type": "markdown",
   "metadata": {},
   "source": [
    "Get the list of taxa from a textfile.  "
   ]
  },
  {
   "cell_type": "code",
   "execution_count": 56,
   "metadata": {},
   "outputs": [],
   "source": [
    "fi = open(\"input_.txt_data/CALeDNAformatTSHORT.txt\").readlines()"
   ]
  },
  {
   "cell_type": "code",
   "execution_count": 57,
   "metadata": {},
   "outputs": [
    {
     "data": {
      "text/plain": [
       "['NA',\n",
       " 'NA',\n",
       " 'Phaeophyceae',\n",
       " 'Fucales',\n",
       " 'Sargassaceae',\n",
       " 'Sargassum',\n",
       " 'Sargassum muticum\\n']"
      ]
     },
     "execution_count": 57,
     "metadata": {},
     "output_type": "execute_result"
    }
   ],
   "source": [
    "fi[3].split(';')"
   ]
  },
  {
   "cell_type": "code",
   "execution_count": 58,
   "metadata": {},
   "outputs": [
    {
     "data": {
      "text/plain": [
       "'Codium fragile subsp. tomentosoides\\n'"
      ]
     },
     "execution_count": 58,
     "metadata": {},
     "output_type": "execute_result"
    }
   ],
   "source": [
    "fi[0].split(';')[6]"
   ]
  },
  {
   "cell_type": "code",
   "execution_count": 59,
   "metadata": {},
   "outputs": [],
   "source": [
    "all_genera = set()\n",
    "for taxon in fi:\n",
    "    try:\n",
    "        genus = taxon.split(';')[5] #[6] = spp, [5]=genus\n",
    "        all_genera.add(genus)\n",
    "    except:\n",
    "        pass\n",
    "        "
   ]
  },
  {
   "cell_type": "code",
   "execution_count": 60,
   "metadata": {},
   "outputs": [
    {
     "data": {
      "text/plain": [
       "35"
      ]
     },
     "execution_count": 60,
     "metadata": {},
     "output_type": "execute_result"
    }
   ],
   "source": [
    "len(all_genera)"
   ]
  },
  {
   "cell_type": "code",
   "execution_count": 61,
   "metadata": {},
   "outputs": [
    {
     "data": {
      "text/plain": [
       "351680"
      ]
     },
     "execution_count": 61,
     "metadata": {},
     "output_type": "execute_result"
    }
   ],
   "source": [
    "OT.get_ottid_from_name('Stappia')"
   ]
  },
  {
   "cell_type": "code",
   "execution_count": 62,
   "metadata": {},
   "outputs": [],
   "source": [
    "def get_matchdict_from_taxlist(list_of_taxa):\n",
    "        \"\"\"Returns tree object\n",
    "        \"\"\"\n",
    "        matches = dict()\n",
    "        failed = set()\n",
    "        for tax in list_of_taxa:\n",
    "            tax = tax.strip()\n",
    "            if tax != '':\n",
    "                ott_id = OT.get_ottid_from_name(genus)\n",
    "                matches[genus] = ott_id"
   ]
  },
  {
   "cell_type": "code",
   "execution_count": 63,
   "metadata": {},
   "outputs": [],
   "source": [
    "get_matchdict_from_taxlist(all_genera)\n"
   ]
  },
  {
   "cell_type": "code",
   "execution_count": 3,
   "metadata": {},
   "outputs": [
    {
     "ename": "SyntaxError",
     "evalue": "invalid syntax (<ipython-input-3-4b1e30637e94>, line 4)",
     "output_type": "error",
     "traceback": [
      "\u001b[0;36m  File \u001b[0;32m\"<ipython-input-3-4b1e30637e94>\"\u001b[0;36m, line \u001b[0;32m4\u001b[0m\n\u001b[0;31m    $print(OT.tnrs_match([\"Marenzelleria viridis\"], do_approximate_matching=True))\u001b[0m\n\u001b[0m    ^\u001b[0m\n\u001b[0;31mSyntaxError\u001b[0m\u001b[0;31m:\u001b[0m invalid syntax\n"
     ]
    }
   ],
   "source": [
    "#ott_id = OT.get_ottid_from_name('Melanoides')\n",
    "#print(ott_id)\n",
    "\n",
    "#print(OT.tnrs_match([\"Marenzelleria viridis\"], do_approximate_matching=True))\n",
    "resp = OT.tnrs_match([\"Melanoides\"], do_approximate_matching=True)\n",
    "resp.response_dict['results']"
   ]
  },
  {
   "cell_type": "code",
   "execution_count": 64,
   "metadata": {},
   "outputs": [
    {
     "name": "stderr",
     "output_type": "stream",
     "text": [
      "Exact match to name Melanoides not found in taxonomy.\n",
      "Try using `resp = OT.tnrs_match([\"Melanoides\"], do_approximate_matching=True)`\n",
      "\n",
      "                                                   resp.response_dict \n",
      "\n",
      "                                        to find fuzzy matches\n"
     ]
    },
    {
     "name": "stdout",
     "output_type": "stream",
     "text": [
      "None\n",
      "Web-service call to https://api.opentreeoflife.org/v3/tnrs/match_names succeeded.\n",
      "34\n",
      "1\n"
     ]
    }
   ],
   "source": [
    "matches = dict()\n",
    "ottid_to_genus = dict()\n",
    "total_none = 0 #number of taxa without Id\n",
    "total_int = 0 #number of IDs found\n",
    "for genus in all_genera:\n",
    "    if len(genus) > 2:\n",
    "        #try:\n",
    "            ott_id = OT.get_ottid_from_name(genus)\n",
    "            if ott_id is None:\n",
    "                print(\"None\")\n",
    "                resp = OT.tnrs_match([genus], do_approximate_matching=True)\n",
    "                print(resp)\n",
    "                total_none = total_none+1\n",
    "            else:\n",
    "                #print(genus)\n",
    "                #print((ott_id)), \n",
    "                total_int = total_int + 1\n",
    "                ottid_to_genus['ott{}'.format(ott_id)]=genus\n",
    "                matches[genus] = ott_id\n",
    "        #except:\n",
    "        #    print(\"Failed to get an ottid for {}\".format(genus))\n",
    "print(total_int)\n",
    "print(total_none)"
   ]
  },
  {
   "cell_type": "code",
   "execution_count": 66,
   "metadata": {},
   "outputs": [],
   "source": [
    "#testing block\n",
    "#print(matches.values())\n",
    "#if isinstance(type(x), (int)):\n",
    "    #print(\"its a int\")\n",
    "#type(matches.value())\n",
    "#length(matches.value())"
   ]
  },
  {
   "cell_type": "code",
   "execution_count": 22,
   "metadata": {},
   "outputs": [
    {
     "ename": "OTWebServicesError",
     "evalue": "Call to tree_of_life/induced_subtree failed with the message \"[/v3/tree_of_life/induced_subtree] Error: node_id 'ott5335984' was not found!\nFull list of unknown/unrecognized query ids:\n ott5335984 \n\"",
     "output_type": "error",
     "traceback": [
      "\u001b[0;31m---------------------------------------------------------------------------\u001b[0m",
      "\u001b[0;31mOTWebServicesError\u001b[0m                        Traceback (most recent call last)",
      "\u001b[0;32m<ipython-input-22-a3499a4a6cc0>\u001b[0m in \u001b[0;36m<module>\u001b[0;34m\u001b[0m\n\u001b[1;32m      2\u001b[0m \u001b[0;31m#OTWebServicesError: Call to tree_of_life/induced_subtree failed with the message \"[/v3/tree_of_life/induced_subtree] Error: node_id 'ott5335984' was not found! Full list of unknown/unrecognized query ids:\"\"\"Full list of unknown/unrecognized query ids: xtt533598, , ,':\u001b[0m\u001b[0;34m\u001b[0m\u001b[0;34m\u001b[0m\u001b[0;34m\u001b[0m\u001b[0m\n\u001b[1;32m      3\u001b[0m \u001b[0;31m#if this code doesn't produce an error: skip the following two blocks\u001b[0m\u001b[0;34m\u001b[0m\u001b[0;34m\u001b[0m\u001b[0;34m\u001b[0m\u001b[0m\n\u001b[0;32m----> 4\u001b[0;31m \u001b[0moutput\u001b[0m \u001b[0;34m=\u001b[0m \u001b[0mOT\u001b[0m\u001b[0;34m.\u001b[0m\u001b[0msynth_induced_tree\u001b[0m\u001b[0;34m(\u001b[0m\u001b[0mott_ids\u001b[0m\u001b[0;34m=\u001b[0m\u001b[0mlist\u001b[0m\u001b[0;34m(\u001b[0m\u001b[0mmatches\u001b[0m\u001b[0;34m.\u001b[0m\u001b[0mvalues\u001b[0m\u001b[0;34m(\u001b[0m\u001b[0;34m)\u001b[0m\u001b[0;34m)\u001b[0m\u001b[0;34m,\u001b[0m  \u001b[0mlabel_format\u001b[0m\u001b[0;34m=\u001b[0m\u001b[0;34m'name_and_id'\u001b[0m\u001b[0;34m)\u001b[0m\u001b[0;34m\u001b[0m\u001b[0;34m\u001b[0m\u001b[0m\n\u001b[0m",
      "\u001b[0;32m~/GitHub/python-opentree/opentree/ot_object.py\u001b[0m in \u001b[0;36msynth_induced_tree\u001b[0;34m(self, node_ids, ott_ids, label_format, ignore_unknown_ids)\u001b[0m\n\u001b[1;32m    367\u001b[0m                     \u001b[0munknown_ids\u001b[0m \u001b[0;34m=\u001b[0m \u001b[0mcall_record\u001b[0m\u001b[0;34m.\u001b[0m\u001b[0mresponse_dict\u001b[0m\u001b[0;34m[\u001b[0m\u001b[0;34m'unknown'\u001b[0m\u001b[0;34m]\u001b[0m\u001b[0;34m\u001b[0m\u001b[0;34m\u001b[0m\u001b[0m\n\u001b[1;32m    368\u001b[0m                     \u001b[0mmessage\u001b[0m \u001b[0;34m=\u001b[0m \u001b[0mmessage\u001b[0m \u001b[0;34m+\u001b[0m \u001b[0;34m\"\\nFull list of unknown/unrecognized query ids:\\n {} \\n\"\u001b[0m\u001b[0;34m.\u001b[0m\u001b[0mformat\u001b[0m\u001b[0;34m(\u001b[0m\u001b[0;34m\"\\n\"\u001b[0m\u001b[0;34m.\u001b[0m\u001b[0mjoin\u001b[0m\u001b[0;34m(\u001b[0m\u001b[0munknown_ids\u001b[0m\u001b[0;34m)\u001b[0m\u001b[0;34m)\u001b[0m\u001b[0;34m\u001b[0m\u001b[0;34m\u001b[0m\u001b[0m\n\u001b[0;32m--> 369\u001b[0;31m                 \u001b[0;32mraise\u001b[0m \u001b[0mOTWebServicesError\u001b[0m\u001b[0;34m(\u001b[0m\u001b[0mmsgtemplate\u001b[0m\u001b[0;34m.\u001b[0m\u001b[0mformat\u001b[0m\u001b[0;34m(\u001b[0m\u001b[0mmessage\u001b[0m\u001b[0;34m)\u001b[0m\u001b[0;34m)\u001b[0m\u001b[0;34m\u001b[0m\u001b[0;34m\u001b[0m\u001b[0m\n\u001b[0m\u001b[1;32m    370\u001b[0m             \u001b[0mmsgtemplate\u001b[0m \u001b[0;34m=\u001b[0m \u001b[0;34m'Call to tree_of_life/induced_subtree failed with the message \"{}\"'\u001b[0m\u001b[0;34m\u001b[0m\u001b[0;34m\u001b[0m\u001b[0m\n\u001b[1;32m    371\u001b[0m             \u001b[0mself\u001b[0m\u001b[0;34m.\u001b[0m\u001b[0m_cull_unknown_ids_from_args\u001b[0m\u001b[0;34m(\u001b[0m\u001b[0mcall_record\u001b[0m\u001b[0;34m,\u001b[0m \u001b[0mnode_ids\u001b[0m\u001b[0;34m,\u001b[0m \u001b[0mott_ids\u001b[0m\u001b[0;34m)\u001b[0m\u001b[0;34m\u001b[0m\u001b[0;34m\u001b[0m\u001b[0m\n",
      "\u001b[0;31mOTWebServicesError\u001b[0m: Call to tree_of_life/induced_subtree failed with the message \"[/v3/tree_of_life/induced_subtree] Error: node_id 'ott5335984' was not found!\nFull list of unknown/unrecognized query ids:\n ott5335984 \n\""
     ]
    }
   ],
   "source": [
    "#if this code produces an error I copy pasted on the next line, run the following two blocks to generate the output tree\n",
    "#OTWebServicesError: Call to tree_of_life/induced_subtree failed with the message \"[/v3/tree_of_life/induced_subtree] Error: node_id 'ott5335984' was not found! Full list of unknown/unrecognized query ids:\"\"\"Full list of unknown/unrecognized query ids: xtt533598, , ,': \n",
    "#if this code doesn't produce an error: skip the following two blocks\n",
    "output = OT.synth_induced_tree(ott_ids=list(matches.values()),  label_format='name_and_id')"
   ]
  },
  {
   "cell_type": "code",
   "execution_count": 19,
   "metadata": {},
   "outputs": [],
   "source": [
    "#removing 'Full List of unknown/unrecognized query ids'\n",
    "#the list of unknown/unrecognized query ids should be listed above\n",
    "#take the numbers after the 'ott' for each unknown query add it manually to the list below\n",
    "\n",
    "UnknownIDList = [5335984, 2, 3]  #add the ott values in manually\n",
    "listmatch = list(matches.values()) #creating our list\n",
    "for i in UnknownIDList:\n",
    "    if i in listmatch:\n",
    "        listmatch.remove(int(i))  "
   ]
  },
  {
   "cell_type": "code",
   "execution_count": 20,
   "metadata": {},
   "outputs": [],
   "source": [
    "#run the same function now that the unknown query ids have been removed\n",
    "output = OT.synth_induced_tree(ott_ids=listmatch,  label_format='name_and_id')"
   ]
  },
  {
   "cell_type": "code",
   "execution_count": 26,
   "metadata": {},
   "outputs": [],
   "source": [
    "#Create a dictionary that matches the taxa that are returned with the input taxa requested.\n",
    "relabel = dict()\n",
    "broken = output.response_dict['broken']\n",
    "for taxon in broken:\n",
    "    remap = broken[taxon]\n",
    "    if remap.startswith('mrca'):\n",
    "        if remap not in relabel:\n",
    "            relabel[remap] = []\n",
    "        relabel[remap].append(\"{} {}\".format(ottid_to_genus[taxon], taxon))\n",
    "    if remap.startswith('ott'):\n",
    "        if remap not in relabel:\n",
    "            relabel[remap] = []\n",
    "        relabel[remap].append(\"{} {}\".format(ottid_to_genus[taxon], taxon))"
   ]
  },
  {
   "cell_type": "code",
   "execution_count": 27,
   "metadata": {},
   "outputs": [],
   "source": [
    "import copy\n",
    "backuptree = copy.deepcopy(output.tree)"
   ]
  },
  {
   "cell_type": "code",
   "execution_count": 28,
   "metadata": {},
   "outputs": [],
   "source": [
    "#Gos through each taxon in teh tree that is returned, and matches it to the rquested genus or genera, and adds those to the label\n",
    "for taxon in backuptree.taxon_namespace:\n",
    "    if taxon.label.startswith('mrca'):\n",
    "        taxon.label = 'MRCA of taxa in '+' '.join(relabel[taxon.label])\n",
    "    else:\n",
    "        ott = taxon.label.split()[-1]\n",
    "        if ott in relabel:\n",
    "            added_taxa = ' MRCA of taxa in '+' '.join(relabel[ott])\n",
    "            taxon.label = taxon.label + added_taxa"
   ]
  },
  {
   "cell_type": "code",
   "execution_count": 29,
   "metadata": {},
   "outputs": [],
   "source": [
    "# Some characters in names mess up newick tree readers\n",
    "def remove_problem_characters(instr, prob_char = \"():#\", replace_w = '?'):\n",
    "    problem_characters = set(prob_char)\n",
    "    for char in problem_characters:\n",
    "        instr = instr.replace(char,replace_w)\n",
    "    return instr"
   ]
  },
  {
   "cell_type": "code",
   "execution_count": 30,
   "metadata": {},
   "outputs": [],
   "source": [
    "#Some of these taxon names are still causing issues...\n",
    "for taxon in backuptree.taxon_namespace:\n",
    "    taxon.label = remove_problem_characters(taxon.label)\n",
    "\n",
    "for node in backuptree:\n",
    "    if node.label:\n",
    "        node.label = remove_problem_characters(node.label)"
   ]
  },
  {
   "cell_type": "code",
   "execution_count": 31,
   "metadata": {},
   "outputs": [
    {
     "name": "stdout",
     "output_type": "stream",
     "text": [
      "                        /---++++++++++ MRCA of taxa in Myriophyllum ott1009624                      \n",
      "                 /+++++++                                                                           \n",
      "                 |      \\+++++++++++++ Nymphoides ott128308                                         \n",
      "          /+++++++                                                                                  \n",
      "          |      |         /-+++++++++ Pontederiaceae ott399488 MRCA of taxa in Pontederia ott925567\n",
      "          |      \\--------++                                                                        \n",
      "     /+++++                |     +++++ MRCA of taxa in Egeria ott510834                             \n",
      "     |    |                \\++++++                                                                  \n",
      "     |    |                      \\++++ Hydrilla ott332058                                           \n",
      "    ++    |                                                                                         \n",
      "    ||    \\----------------+++++++++++ Mytilopsis ?genus in kingdom Archaeplastida? ott3855889      \n",
      "    ||                                                                                              \n",
      "    ||                              /+ Caulerpa ott858052                                           \n",
      "  /++\\--------------------------+++++                                                               \n",
      "  | |                               \\+ Codium ott900417                                             \n",
      "  | |                                                                                               \n",
      "  | |                             /+++ Bonnemaisonia ott813599                                      \n",
      "+++ \\-----------------------+++++++                                                                 \n",
      "| |                               \\--- Heterosiphonia ott715237                                     \n",
      "| |                                                                                                 \n",
      "| |                  +++++++++++++++++ Sargassum ott1022964                                         \n",
      "| \\-----------------++                                                                              \n",
      "|                    \\----++++++++++++ Prorocentrum ott797787                                       \n",
      "|                                                                                                   \n",
      "|                              /++++++ Dreissena ott201849                                          \n",
      "|                        /-----+                                                                    \n",
      "|                        |     \\-+++++ Membranipora ott394410                                       \n",
      "|                        |                                                                          \n",
      "|                        |        /+++ Crepidula ott24075                                           \n",
      "|                        |   /-++++                                                                 \n",
      "|           /------------+   |    \\-++ Potamopyrgus ott1096311                                      \n",
      "|           |            |   |                                                                      \n",
      "|           |            |/+++  /+++++ Crassostrea ott355604                                        \n",
      "|           |            ||  |  |                                                                   \n",
      "+           |            ||  |  |-++++ Teredo ?genus in phylum Mollusca? ott326000                  \n",
      "|           |            ||  \\+++                                                                   \n",
      "|           |            \\+     |---++ Corbicula ?genus in kingdom Metazoa? ott775909               \n",
      "|           |             |     |                                                                   \n",
      "|           |             |     \\----+ Petricolaria ott801950                                       \n",
      "|           |             |                                                                         \n",
      "|         /++             |        /++ Ficopomatus ott631822                                        \n",
      "|         | |             \\--+++++++                                                                \n",
      "|         | |                      \\++ Marenzelleria ott4324                                        \n",
      "|         | |                                                                                       \n",
      "|         | |                        / Cercopagis ott613790                                         \n",
      "|         | |   /-------------++++++++                                                              \n",
      "|         | |   |                    \\ Bythotrephes ott1022217                                      \n",
      "|         | |   |                                                                                   \n",
      "|         | |   |              /--++++ Mysis ott373475                                              \n",
      "|         | |   |    /---------+                                                                    \n",
      "|         | \\++++    |         \\++++++ Caprella ott5342283                                          \n",
      "\\----++++++     |  /++                                                                              \n",
      "          |     |  | |     /++++++++++ Rhithropanopeus ott190393                                    \n",
      "          |     |  | |     |                                                                        \n",
      "          |     |  | \\++++++       /++ MRCA of taxa in Procambarus ott79859                         \n",
      "          |     \\+++       |    /+++                                                                \n",
      "          |        |       \\--+++  \\-- Orconectes ott927957                                         \n",
      "          |        |            |                                                                   \n",
      "          |        |            \\-++++ Homarus ott28240                                             \n",
      "          |        |                                                                                \n",
      "          |        \\----++++++++++++++ Amphibalanus ott1042709                                      \n",
      "          |                                                                                         \n",
      "          |                 /+++++++++ Cordylophora ott765326                                       \n",
      "          \\------------++++++                                                                       \n",
      "                            \\------+++ Ectopleura ott183503                                         \n",
      "                                                                                                    \n",
      "                                                                                                    \n"
     ]
    }
   ],
   "source": [
    "backuptree.print_plot(width=100)\n",
    "treefile = \"bigbio_clean.tre\"\n",
    "backuptree.write(path = treefile, schema = \"newick\")"
   ]
  },
  {
   "cell_type": "code",
   "execution_count": 32,
   "metadata": {},
   "outputs": [
    {
     "name": "stdout",
     "output_type": "stream",
     "text": [
      "https://tree.opentreeoflife.org/curator/study/view/ot_649?tab=trees&tree=tree1\n",
      "Weigert, Anne, Conrad Helm, Matthias Meyer, Birgit Nickel, Detlev Arendt, Bernhard Hausdorf, Scott R. Santos, Kenneth M. Halanych, Gunter Purschke, Christoph Bleidorn, Torsten H. Struck. 2014. Illuminating the base of the Annelid tree using transcriptomics. Molecular Biology and Evolution 31 (6): 391-1401\n",
      "http://dx.doi.org/10.1093/molbev/msu080\n",
      "\n",
      "https://tree.opentreeoflife.org/curator/study/view/pg_1366?tab=trees&tree=tree6166\n",
      "Struck, T.H., Paul C., Hill N., Hartmann S., Hösel C., Kube M., Lieb B., Meyer A., Tiedemann R., Purschke G., & Bleidorn C. 2011. Phylogenomic analyses unravel annelid evolution. Nature 471 (7336): 95-98.\n",
      "http://dx.doi.org/10.1038/nature09864\n",
      "\n",
      "https://tree.opentreeoflife.org/curator/study/view/ot_650?tab=trees&tree=tree1\n",
      "Struck, Torsten Hugo, Anja Golombek, Anne Weigert, Franziska Anni Franke, Wilfried Westheide, Günter Purschke, Christoph Bleidorn, Kenneth Michael Halanych. 2015. The evolution of annelids reveals two adaptive routes to the interstitial realm. Current Biology 25 (15): 1993-1999\n",
      "http://dx.doi.org/10.1016/j.cub.2015.06.007\n",
      "\n",
      "https://tree.opentreeoflife.org/curator/study/view/ot_502?tab=trees&tree=tree1\n",
      "Magallón, Susana, Sandra Gómez-Acevedo, Luna L. Sánchez-Reyes, Tania Hernández-Hernández. 2015. A metacalibrated time-tree documents the early rise of flowering plant phylogenetic diversity. New Phytologist 207 (2): 437-453\n",
      "http://dx.doi.org/10.1111/nph.13264\n",
      "\n",
      "https://tree.opentreeoflife.org/curator/study/view/pg_2539?tab=trees&tree=tree6294\n",
      "Soltis D., Smith S.A., Cellinese N., Wurdack K.J., Tank D.C., Brockington S.F., Refulio-rodriguez N., Walker J.B., Moore M.J., Carlsward B.S., Bell C., Latvis M., Crawley S., Black C., Diouf D., Xi Z., Rushworth C.A., Gitzendanner M.A., Sytsma K.J., Qiu Y., Hilu K., Davis C., Sanderson M.J., Beaman R.S., Olmstead R., Judd W., Donoghue M., & Soltis P. 2011. Angiosperm phylogeny: 17 genes, 640 taxa. American Journal of Botany, 98(4), 704-730.\n",
      "http://dx.doi.org/10.3732/ajb.1000404\n",
      "\n",
      "https://tree.opentreeoflife.org/curator/study/view/pg_2813?tab=trees&tree=tree6550\n",
      "Rota-Stabelli, O., L. Campbell, H. Brinkmann, G. D. Edgecombe, S. J. Longhorn, K. J. Peterson, D. Pisani, H. Philippe, M. J. Telford. 2011. A congruent solution to arthropod phylogeny: phylogenomics, microRNAs and morphology support monophyletic Mandibulata. Proceedings of the Royal Society B: Biological Sciences 278 (1703): 298-306.\n",
      "http://dx.doi.org/10.1098/rspb.2010.0590\n",
      "\n",
      "https://tree.opentreeoflife.org/curator/study/view/pg_1217?tab=trees&tree=tree2455\n",
      "Delsuc, Frédéric, Georgia Tsagkogeorga, Nicolas Lartillot, andHervé Philippe. 2008. Additional molecular\n",
      "support for the new chordate phylogeny. Genesis 46 (11): 592-604.\n",
      "http://dx.doi.org/10.1002/dvg.20450\n",
      "\n",
      "https://tree.opentreeoflife.org/curator/study/view/ot_1046?tab=trees&tree=tree1\n",
      "Seong-il Eyun, 2017, 'Phylogenomic analysis of Copepoda (Arthropoda, Crustacea) reveals unexpected similarities with earlier proposed morphological phylogenies', BMC Evolutionary Biology, vol. 17, no. 1\n",
      "http://dx.doi.org/10.1186/s12862-017-0883-5\n",
      "\n",
      "https://tree.opentreeoflife.org/curator/study/view/pg_225?tab=trees&tree=tree5991\n",
      "Qiu, Y.-L., Li, L., Wang, B., Chen, Z., Knoop, V., Groth-Malonek, M., Dombrovska, O., Lee, J., Kent, L., Rest, J. S., Estabrook, G. F., Hendry, T. A., Taylor, D. W., Testa, C. M., Ambros, M., Crandall-Stotler, B., Duff, R. J., Stech, M., Frey, W., Quandt, D., & Davis, C. C. 2006. The deepest divergences in land plants inferred from phylogenomic evidence. Proc. National Acad. Sci. U.S.A. 103: 15511-15516.\n",
      "http://dx.doi.org/10.1073/pnas.0603335103\n",
      "\n",
      "https://tree.opentreeoflife.org/curator/study/view/pg_2742?tab=trees&tree=tree6342\n",
      "Gómez F., Moreira D., & López-garcía P. 2009. Neoceratium gen. nov., a New Genus for All Marine Species Currently Assigned to Ceratium (Dinophyceae). Protist, 161(1): 35-54.\n",
      "http://dx.doi.org/10.1016/j.protis.2009.06.004\n",
      "\n",
      "https://tree.opentreeoflife.org/curator/study/view/pg_2822?tab=trees&tree=tree6569\n",
      "Parfrey, L. W., D. J. G. Lahr, A. H. Knoll, L. A. Katz. 2011. Estimating the timing of early eukaryotic diversification with multigene molecular clocks. Proceedings of the National Academy of Sciences 108 (33): 13624-13629.\n",
      "http://dx.doi.org/10.1073/pnas.1110633108\n",
      "\n",
      "https://tree.opentreeoflife.org/curator/study/view/pg_2648?tab=trees&tree=tree6171\n",
      "Volkmar, U., & Knoop, V. (2010). Introducing intron locus cox1i624 for phylogenetic analyses in bryophytes: on the issue of Takakia as sister genus to all other extant mosses. Journal of molecular evolution, 70(5), 506-518.\n",
      "http://dx.doi.org/10.1007/s00239-010-9348-9\n",
      "\n",
      "https://tree.opentreeoflife.org/curator/study/view/pg_2708?tab=trees&tree=tree6289\n",
      "Kayal, E., Roure, B., Philippe, H., Collins, A. G., & Lavrov, D. V. 2013. Cnidarian phylogenetic relationships as revealed by mitogenomics. BMC Evolutionary Biology 13 (1): 5.\n",
      "http://dx.doi.org/10.1186/1471-2148-13-5\n",
      "\n",
      "https://tree.opentreeoflife.org/curator/study/view/pg_2820?tab=trees&tree=tree6566\n",
      "Ruhfel, Brad R, Matthew A Gitzendanner, Pamela S Soltis, Douglas E Soltis, J Burleigh. 2014. From algae to angiosperms–inferring the phylogeny of green plants (Viridiplantae) from 360 plastid genomes. BMC Evolutionary Biology 14 (1): 23\n",
      "http://dx.doi.org/10.1186/1471-2148-14-23\n",
      "\n",
      "https://tree.opentreeoflife.org/curator/study/view/ot_508?tab=trees&tree=tree2\n",
      "dos Reis, Mario, Yuttapong Thawornwattana, Konstantinos Angelis, Maximilian J. Telford, Philip C.J. Donoghue, Ziheng Yang. 2015. Uncertainty in the timing of origin of animals and the limits of precision in molecular timescales. Current Biology\n",
      "http://dx.doi.org/10.1016/j.cub.2015.09.066\n",
      "\n",
      "https://tree.opentreeoflife.org/curator/study/view/ot_311?tab=trees&tree=tree1\n",
      "Amy E. Zanne, David C. Tank, William K. Cornwell, Jonathan M. Eastman, Stephen A. Smith, Richard G. FitzJohn, Daniel J. McGlinn, Brian C. O’Meara, Angela T. Moles, Peter B. Reich, Dana L. Royer, Douglas E. Soltis, Peter F. Stevens, Mark Westoby, Ian J. Wright, Lonnie Aarssen, Robert I. Bertin, Andre Calaminus, Rafaël Govaerts, Frank Hemmings, Michelle R. Leishman, Jacek Oleksyn, Pamela S. Soltis, Nathan G. Swenson, Laura Warman, Jeremy M. Beaulieu, 2013, 'Three keys to the radiation of angiosperms into freezing environments', Nature, vol. 506, no. 7486, pp. 89-92\n",
      "http://dx.doi.org/10.1038/nature12872\n",
      "\n",
      "https://tree.opentreeoflife.org/curator/study/view/ot_535?tab=trees&tree=tree1\n",
      "Sun, Yanxia, Michael J. Moore, Shoujun Zhang, Pamela S. Soltis, Douglas E. Soltis, Tingting Zhao, Aiping Meng, Xiaodong Li, Jianqiang Li, Hengchang Wang. 2016. Phylogenomic and structural analyses of 18 complete plastomes across nearly all families of early-diverging eudicots, including an angiosperm-wide analysis of IR gene content evolution. Molecular Phylogenetics and Evolution 96: 93-101\n",
      "http://dx.doi.org/10.1016/j.ympev.2015.12.006\n",
      "\n",
      "https://tree.opentreeoflife.org/curator/study/view/pg_2618?tab=trees&tree=tree6130\n",
      "Sandra C. Craveiro, António J. Calado, Niels Daugbjerg, Gert Hansen, Øjvind Moestrup, 2011, 'Ultrastructure and LSU rDNA-based Phylogeny of Peridinium lomnickii and Description of Chimonodinium gen. nov. (Dinophyceae)', Protist, vol. 162, no. 4, pp. 590-615\n",
      "http://dx.doi.org/10.1016/j.protis.2011.03.003\n",
      "\n",
      "https://tree.opentreeoflife.org/curator/study/view/pg_2710?tab=trees&tree=tree6291\n",
      "Ryan, J. F., K. Pang, C. E. Schnitzler, A.-D. Nguyen, R. T. Moreland, D. K. Simmons, B. J. Koch, W. R. Francis, P. Havlak, S. A. Smith, N. H. Putnam, S. H. D. Haddock, C. W. Dunn, T. G. Wolfsberg, J. C. Mullikin, M. Q. Martindale, A. D. Baxevanis. 2013. The genome of the ctenophore Mnemiopsis leidyi and its implications for cell type evolution. Science 342 (6164): 1242592-1242592.\n",
      "http://dx.doi.org/10.1126/science.1242592\n",
      "\n",
      "https://tree.opentreeoflife.org/curator/study/view/ot_1624?tab=trees&tree=Tr85668\n",
      "Jin L.S., Cadotte M.W., & Fortin M. 2015. Phylogenetic turnover patterns consistent with niche conservatism in montane plant species. Journal of Ecology, .\n",
      "https://doi.org/10.1111/1365-2745.12385\n",
      "\n",
      "https://tree.opentreeoflife.org/curator/study/view/pg_1242?tab=trees&tree=tree2507\n",
      "Laurin-Lemay, S., Brinkmann, H., & Philippe, H. (2012). Origin of land plants revisited in the light of sequence contamination and missing data. Current Biology, 22(15), R593-R594.\n",
      "http://dx.doi.org/10.1016/j.cub.2012.06.013\n",
      "\n",
      "https://tree.opentreeoflife.org/curator/study/view/pg_2814?tab=trees&tree=tree6551\n",
      "Rota-Stabelli, O., Lartillot, N., Philippe, H., and Pisani, D. 2013. Serine codon-usage bias in deep phylogenomics: Pancrustacean relationships as a case study. Systematic Biology 62 (1): 121-133.\n",
      "http://dx.doi.org/10.1093/sysbio/sys077\n",
      "\n",
      "https://tree.opentreeoflife.org/curator/study/view/ot_1047?tab=trees&tree=tree1\n",
      "T. H. Oakley, J. M. Wolfe, A. R. Lindgren, A. K. Zaharoff, 2012, 'Phylotranscriptomics to Bring the Understudied into the Fold: Monophyletic Ostracoda, Fossil Placement, and Pancrustacean Phylogeny', Molecular Biology and Evolution, vol. 30, no. 1, pp. 215-233\n",
      "http://dx.doi.org/10.1093/molbev/mss216\n",
      "\n",
      "https://tree.opentreeoflife.org/curator/study/view/ot_656?tab=trees&tree=tree2\n",
      "Alexandra S. Petrunina, Tatyana V. Neretina, Nikolay S. Mugue, Gregory A. Kolbasov, 2013, 'Tantulocarida versus Thecostraca: inside or outside? First attempts to resolve phylogenetic position of Tantulocarida using gene sequences', Journal of Zoological Systematics and Evolutionary Research, vol. 52, no. 2, pp. 100-108\n",
      "http://dx.doi.org/10.1111/jzs.12045\n",
      "\n",
      "https://tree.opentreeoflife.org/curator/study/view/ot_519?tab=trees&tree=tree2\n",
      "Chang E.S., Neuhof M., Rubinstein N., Diamant A., Philippe H., Huchon D., & Cartwright P. 2015. Genomic insights into the evolutionary origin of Myxozoa within Cnidaria. Proceedings of the National Academy of Sciences of the United States of America, .\n",
      "http://dx.doi.org/10.1073/pnas.1511468112\n",
      "\n",
      "https://tree.opentreeoflife.org/curator/study/view/ot_1417?tab=trees&tree=Tr94055\n",
      "Barber N.A., Jones H.P., Duvall M.R., Wysocki W.P., Hansen M.J., & Gibson D.J. 2016. Phylogenetic diversity is maintained despite richness losses over time in restored tallgrass  prairie plant communities. Journal of Applied Ecology, .\n",
      "https://doi.org/10.1111/1365-2664.12639\n",
      "\n",
      "https://tree.opentreeoflife.org/curator/study/view/ot_859?tab=trees&tree=tree1\n",
      "Foster, Charles S. P., Hervé Sauquet, Marlien van der Merwe, Hannah McPherson, Maurizio Rossetto, Simon Y. W. Ho. 2016. Evaluating the impact of genomic data and priors on Bayesian estimates of the angiosperm evolutionary timescale. Systematic Biology, p. syw086\n",
      "http://dx.doi.org/10.1093/sysbio/syw086\n",
      "\n",
      "https://tree.opentreeoflife.org/curator/study/view/pg_588?tab=trees&tree=tree878\n",
      "Seberg, O., Petersen, G., Davis, J. I., Pires, J. C., Stevenson, D. W., Chase, M. W., Fay, M. F., Devey, D. S., Jørgensen, T., Sytsma, K. J., & Pillon, Y. 2012. Phylogeny of the Asparagales based on three plastid and two mitochondrial genes. American J. Bot. 99: 875-889.\n",
      "http://dx.doi.org/10.3732/ajb.1100468\n",
      "\n",
      "https://tree.opentreeoflife.org/curator/study/view/pg_1786?tab=trees&tree=tree6257\n",
      "Cartwright, P., Evans N., Dunn C., Marques A., Miglietta M., & Collins A. 2008. Phylogenetics of Hydroidolina (Cnidaria, Hydrozoa). Journal of the Marine Biological Association of the United Kingdom 88 (8): 1663-1672.\n",
      "http://dx.doi.org/10.1017/S0025315408002257\n",
      "\n",
      "https://tree.opentreeoflife.org/curator/study/view/ot_954?tab=trees&tree=tree1\n",
      "SOFIA V. PYATAEVA, RUSSELL R. HOPCROFT, DHUGAL J. LINDSAY, ALLEN G. COLLINS, 2016, 'DNA barcodes unite two problematic taxa: the meiobenthic Boreohydra simplex is a life-cycle stage of Plotocnide borealis (Hydrozoa: Aplanulata)', Zootaxa, vol. 4150, no. 1, p. 85\n",
      "http://dx.doi.org/10.11646/zootaxa.4150.1.5\n",
      "\n",
      "https://tree.opentreeoflife.org/curator/study/view/pg_2675?tab=trees&tree=tree6221\n",
      "Breinholt, JW, Porter ML, Crandall KA (2012) Testing phylogenetic hypotheses of the subgenera of the freshwater crayfish genus Cambarus (Decapoda: Cambaridae). PLoS ONE 7 (9): e46105\n",
      "http://dx.doi.org/10.1371/journal.pone.0046105\n",
      "\n",
      "https://tree.opentreeoflife.org/curator/study/view/pg_2923?tab=trees&tree=tree6751\n",
      "Pérez-Losada, M., Høeg, J. T., Simon-Blecher, N., Achituv, Y., Jones, D., & Crandall, K. A. (2014). Molecular phylogeny, systematics and morphological evolution of the acorn barnacles (Thoracica: Sessilia: Balanomorpha). Molecular phylogenetics and evolution, 81, 147-158.\n",
      "http://dx.doi.org/10.1016/j.ympev.2014.09.013\n",
      "\n",
      "https://tree.opentreeoflife.org/curator/study/view/ot_618?tab=trees&tree=tree1\n",
      "Santiago Herrera, Hiromi Watanabe, Timothy M. Shank, 2015, 'Evolutionary and biogeographical patterns of barnacles from deep-sea hydrothermal vents', Molecular Ecology, vol. 24, no. 3, pp. 673-689\n",
      "http://dx.doi.org/10.1111/mec.13054\n",
      "\n",
      "https://tree.opentreeoflife.org/curator/study/view/ot_619?tab=trees&tree=tree8\n",
      "Dana Carrison-Stone, Robert Van Syoc, Gary Williams, Brian Simison, 2013, 'Two new species of the gorgonian inhabiting barnacle, Conopea (Crustacea, Cirripedia, Thoracica), from the Gulf of Guinea', ZooKeys, vol. 270, pp. 1-20\n",
      "http://dx.doi.org/10.3897/zookeys.270.3736\n",
      "\n",
      "https://tree.opentreeoflife.org/curator/study/view/pg_2608?tab=trees&tree=tree6288\n",
      "Soltis, D. E., Mort, M. E., Latvis, M., Mavrodiev, E. V., O’Meara, B. C., Soltis, P. S., ... & de Casas, R. R. (2013). Phylogenetic relationships and character evolution analysis of Saxifragales using a supermatrix approach. American journal of botany, 100(5), 916-929.\n",
      "http://dx.doi.org/10.3732/ajb.1300044\n",
      "\n",
      "https://tree.opentreeoflife.org/curator/study/view/pg_1944?tab=trees&tree=tree3959\n",
      "Tank, D., M. Donoghue. 2010. Phylogeny and phylogenetic nomenclature of the Campanulidae based on an expanded set of genes and taxa. Systematic Botany 35 (2): 425-441.\n",
      "http://dx.doi.org/10.1600/036364410791638306\n",
      "\n",
      "https://tree.opentreeoflife.org/curator/study/view/ot_1391?tab=trees&tree=Tr96262\n",
      "Satoshi Eguchi, Minoru N. Tamura, 2016, 'Evolutionary timescale of monocots determined by the fossilized birth-death model using a large number of fossil records', Evolution, vol. 70, no. 5, pp. 1136-1144\n",
      "https://doi.org/10.1111/evo.12911\n",
      "\n",
      "https://tree.opentreeoflife.org/curator/study/view/ot_634?tab=trees&tree=tree1\n",
      "David John Rees, Christoph Noever, Jens Thorvald Høeg, Anders Ommundsen, Henrik Glenner, 2014, 'On the Origin of a Novel Parasitic-Feeding Mode within Suspension-Feeding Barnacles', Current Biology, vol. 24, no. 12, pp. 1429-1434\n",
      "http://dx.doi.org/10.1016/j.cub.2014.05.030\n",
      "\n",
      "https://tree.opentreeoflife.org/curator/study/view/pg_2917?tab=trees&tree=tree6745\n",
      "Marcos Pérez-Losada, Margaret Harp, Jens T. Høeg, Yair Achituv, Diana Jones, Hiromi Watanabe, Keith A. Crandall. 2008. The tempo and mode of barnacle evolution. Molecular Phylogenetics and Evolution 46(1):328-346.\n",
      "http://dx.doi.org/10.1016/j.ympev.2007.10.004\n",
      "\n",
      "https://tree.opentreeoflife.org/curator/study/view/pg_313?tab=trees&tree=tree6681\n",
      "Grant, Jessica, Yonas I. Tekle, O. Roger Anderson, David J. Patterson, Laura A. Katz. 2009. Multigene evidence for the placement of a heterotrophic amoeboid lineage Leukarachnion sp. among photosynthetic stramenopiles. Protist 160 (3): 376-385.\n",
      "http://dx.doi.org/10.1016/j.protis.2009.01.001\n",
      "\n",
      "https://tree.opentreeoflife.org/curator/study/view/pg_2674?tab=trees&tree=tree6220\n",
      "Ainscough, B. J., Breinholt, J. W., Robison, H. W., & Crandall, K. A. (2013). Molecular phylogenetics of the burrowing crayfish genus Fallicambarus (Decapoda: Cambaridae). Zoologica Scripta.\n",
      "http://dx.doi.org/10.1111/zsc.12006\n",
      "\n",
      "https://tree.opentreeoflife.org/curator/study/view/pg_2838?tab=trees&tree=tree6594\n",
      "Bracken-Grissom, Heather D., Shane T. Ahyong, Richard D. Wilkinson, Rodney M. Feldmann, Carrie E. Schweitzer, Jesse W. Breinholt, Matthew Bendall, Ferran Palero, Tin-Yam Chan, Darryl L. Felder, Rafael Robles, Ka-Hou Chu, Ling-Ming Tsang, Dohyup Kim, Joel W. Martin, and Keith A. Crandall. 2014.  \r\n",
      "The emergence of the lobsters: phylogenetic relationships, morphological evolution and divergence time comparisons of an ancient group (Decapoda: Achelata, Astacidea, Glypheidea, Polychelida). Systematic Biology: syu008v1-syu008.\n",
      "http://dx.doi.org/10.1093/sysbio/syu008\n",
      "\n",
      "https://tree.opentreeoflife.org/curator/study/view/pg_2673?tab=trees&tree=tree6219\n",
      "Toon, A., Pérez‐Losada, M., Schweitzer, C. E., Feldmann, R. M., Carlson, M., & Crandall, K. A. (2010). Gondwanan radiation of the Southern Hemisphere crayfishes (Decapoda: Parastacidae): evidence from fossils and molecules. Journal of Biogeography 37 (12): 2275-2290.\n",
      "http://dx.doi.org/10.1111/j.1365-2699.2010.02374.x\n",
      "\n",
      "https://tree.opentreeoflife.org/curator/study/view/pg_2682?tab=trees&tree=tree6227\n",
      "Bracken, H. D., De Grave, S., Toon, A., Felder, D. L., & Crandall, K. A. 2010. Phylogenetic position, systematic status, and divergence time of the Procarididea (Crustacea: Decapoda). Zoologica Scripta 39 (2): 198-212.\n",
      "http://dx.doi.org/10.1111/j.1463-6409.2009.00410.x\n",
      "\n",
      "https://tree.opentreeoflife.org/curator/study/view/ot_1184?tab=trees&tree=tree1\n",
      "Yang EC, Boo SM, Bhattacharya D, Saunders GW, Knoll AH, Fredericq S, Graf L, Yoon HS. 2016. Divergence time estimates and the evolution of major lineages in the florideophyte red algae. Scientific Reports 6: 21361.\n",
      "https://www.nature.com/articles/srep21361\n",
      "\n",
      "https://tree.opentreeoflife.org/curator/study/view/pg_1278?tab=trees&tree=tree2572\n",
      "Forrest L., Davis E., Long D., Crandall-stotler B., Clark A., & Hollingsworth M.\r\n",
      "2006. Unraveling the evolutionary history of the liverworts (Marchantiophyta): multiple\r\n",
      "taxa, genomes and analyses. The Bryologist, 109(3): 303-334.\n",
      "http://dx.doi.org/10.1639/0007-2745(2006)109[303:UTEHOT]2.0.CO;2\n",
      "\n",
      "https://tree.opentreeoflife.org/curator/study/view/pg_1474?tab=trees&tree=tree2969\n",
      "Hiroshi Kawai, Hideaki Sasaki, 2004, ' MORPHOLOGY, LIFE HISTORY, AND MOLECULAR PHYLOGENY OF STSCHAPOVIA FLAGELLARIS (TILOPTERIDALES, PHAEOPHYCEAE) AND THE ERECTION OF THE STSCHAPOVIACEAE FAM. NOV. ', Journal of Phycology, vol. 40, no. 6, pp. 1156-1169\n",
      "http://dx.doi.org/10.1111/j.1529-8817.2004.03153.x\n",
      "\n",
      "https://tree.opentreeoflife.org/curator/study/view/pg_2842?tab=trees&tree=tree6603\n",
      "Pérez-Losada, M, Høeg JT, Crandall KA. 2009. Remarkable convergent evolution in specialized parasitic Thecostraca (Crustacea). BMC Biology 7: 15.\n",
      "http://dx.doi.org/10.1186/1741-7007-7-15\n",
      "\n",
      "https://tree.opentreeoflife.org/curator/study/view/pg_2916?tab=trees&tree=tree6744\n",
      "Pérez-Losada M, Høeg JT, Crandall KA. 2012. Deep Phylogeny and Character Evolution in Thecostraca (Crustacea: Maxillopoda). Integrative and Comparative Biology 52(3):430-442.\n",
      "http://dx.doi.org/10.1093/icb/ics051\n",
      "\n",
      "https://tree.opentreeoflife.org/curator/study/view/ot_615?tab=trees&tree=Tr76459\n",
      "Hsiu-Chin Lin, Jens T. Høeg, Yoichi Yusa, Benny K.K. Chan, 2015, 'The origins and evolution of dwarf males and habitat use in thoracican barnacles', Molecular Phylogenetics and Evolution, vol. 91, pp. 1-11\n",
      "http://dx.doi.org/10.1016/j.ympev.2015.04.026\n",
      "\n",
      "https://tree.opentreeoflife.org/curator/study/view/ot_895?tab=trees&tree=tree2\n",
      "Felipe Zapata, Freya E. Goetz, Stephen A. Smith, Mark Howison, Stefan Siebert, Samuel H. Church, Steven M. Sanders, Cheryl Lewis Ames, Catherine S. McFadden, Scott C. France, Marymegan Daly, Allen G. Collins, Steven H. D. Haddock, Casey W. Dunn, Paulyn Cartwright, 2015, 'Phylogenomic Analyses Support Traditional Relationships within Cnidaria', PLOS ONE, vol. 10, no. 10, p. e0139068\n",
      "http://dx.doi.org/10.1371/journal.pone.0139068\n",
      "\n",
      "https://tree.opentreeoflife.org/curator/study/view/ot_811?tab=trees&tree=tree1\n",
      "Kocot, Kevin M., Torsten H. Struck, Julia Merkel, Damien S. Waits, Christiane Todt, Pamela M. Brannock, David A. Weese, Johanna T. Cannon, Leonid L. Moroz, Bernhard Lieb, Kenneth M. Halanych. 2016. Phylogenomics of Lophotrochozoa with consideration of systematic error. Systematic Biology, p. syw079\n",
      "http://dx.doi.org/10.1093/sysbio/syw079\n",
      "\n",
      "https://tree.opentreeoflife.org/curator/study/view/ot_1627?tab=trees&tree=Tr46103\n",
      "Vinther J., Sperling E.A., Briggs D.E., & Peterson K.J. 2011. A molecular paleobiological hypothesis to the origin of aplacophorans and their derivation from chiton-like ancestors. Proceedings of the Royal Society B, .\n",
      "https://doi.org/10.1098/rspb.2011.1773\n",
      "\n",
      "https://tree.opentreeoflife.org/curator/study/view/pg_421?tab=trees&tree=tree523\n",
      "Smith, Stephen A., Nerida G. Wilson, Freya E. Goetz, Caitlin Feehery, Sónia C. S. Andrade, Greg W. Rouse, Gonzalo Giribet and Casey W. Dunn. 2011. Resolving the evolutionary relationships of molluscs with phylogenomic tools. Nature 480, 364–367.\n",
      "http://dx.doi.org/10.1038/nature10526\n",
      "\n",
      "https://tree.opentreeoflife.org/curator/study/view/ot_942?tab=trees&tree=Tr94692\n",
      "Miranda L.S., Hirano Y.M., Mills C.E., Falconer A., Fenwick D., Marques A.C., & Collins A. 2016. Systematics of stalked jellyfishes (Cnidaria: Staurozoa). PeerJ, .\n",
      "http://dx.doi.org/10.7717/peerj.1951\n",
      "\n",
      "https://tree.opentreeoflife.org/curator/study/view/pg_1951?tab=trees&tree=tree3975\n",
      "Bentlage B. 2010. Evolution of box jellyfish (Cnidaria: Cubozoa), a group of highly toxic invertebrates. Proceedings of the Royal Society B: Biological Sciences, 277(1680): 493-501.\n",
      "http://dx.doi.org/10.1098/rspb.2009.1707\n",
      "\n",
      "https://tree.opentreeoflife.org/curator/study/view/pg_1336?tab=trees&tree=tree2660\n",
      "Ahyong, S., Lai J., Sharkey D., Colgan D., & Ng P. 2007. Phylogenetics of the brachyuran crabs (Crustacea: Decapoda): the status of Podotremata based on small subunit nuclear ribosomal RNA. Molecular Phylogenetics and Evolution 45 (2): 576-586.\n",
      "http://dx.doi.org/10.1016/j.ympev.2007.03.022 \n",
      "\n",
      "https://tree.opentreeoflife.org/curator/study/view/ot_546?tab=trees&tree=Tr85942\n",
      "Frederik Leliaert, Juan M Lopez-Bautista, 2015, 'The chloroplast genomes of Bryopsis plumosa and Tydemania expeditiones (Bryopsidales, Chlorophyta): compact genomes and genes of bacterial origin', BMC Genomics, vol. 16, no. 1\n",
      "http://dx.doi.org/10.1186/s12864-015-1418-3\n",
      "\n",
      "https://tree.opentreeoflife.org/curator/study/view/ot_640?tab=trees&tree=tree1\n",
      "N. Simon-Blecher, D. Huchon, Y. Achituv, 2007, 'Phylogeny of coral-inhabiting barnacles (Cirripedia; Thoracica; Pyrgomatidae) based on 12S, 16S and 18S rDNA analysis', Molecular Phylogenetics and Evolution, vol. 44, no. 3, pp. 1333-1341\n",
      "http://dx.doi.org/10.1016/j.ympev.2007.03.026\n",
      "\n",
      "https://tree.opentreeoflife.org/curator/study/view/ot_1314?tab=trees&tree=Tr5182\n",
      "M. Helmkampf, I. Bruchhaus, B. Hausdorf, 2008, 'Phylogenomic analyses of lophophorates (brachiopods, phoronids and bryozoans) confirm the Lophotrochozoa concept', Proceedings of the Royal Society B: Biological Sciences, vol. 275, no. 1645, pp. 1927-1933\n",
      "http://dx.doi.org/10.1098/rspb.2008.0372\n",
      "\n"
     ]
    }
   ],
   "source": [
    "studies = output.response_dict['supporting_studies']\n",
    "cites = OT.get_citations(studies) #this can be a bit slow\n",
    "print(cites)"
   ]
  },
  {
   "cell_type": "code",
   "execution_count": null,
   "metadata": {},
   "outputs": [],
   "source": []
  },
  {
   "cell_type": "code",
   "execution_count": null,
   "metadata": {},
   "outputs": [],
   "source": []
  }
 ],
 "metadata": {
  "kernelspec": {
   "display_name": "Python 3",
   "language": "python",
   "name": "python3"
  },
  "language_info": {
   "codemirror_mode": {
    "name": "ipython",
    "version": 3
   },
   "file_extension": ".py",
   "mimetype": "text/x-python",
   "name": "python",
   "nbconvert_exporter": "python",
   "pygments_lexer": "ipython3",
   "version": "3.8.5"
  }
 },
 "nbformat": 4,
 "nbformat_minor": 2
}
