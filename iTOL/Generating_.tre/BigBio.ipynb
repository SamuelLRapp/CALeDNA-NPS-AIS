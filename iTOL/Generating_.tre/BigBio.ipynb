{
 "cells": [
  {
   "cell_type": "code",
   "execution_count": 1,
   "metadata": {},
   "outputs": [
    {
     "name": "stdout",
     "output_type": "stream",
     "text": [
      "Requirement already satisfied: opentree in /Users/samuelrapp/miniconda3/lib/python3.8/site-packages (0.0.3)\n",
      "Requirement already satisfied: DendroPy>=4.4.0 in /Users/samuelrapp/miniconda3/lib/python3.8/site-packages (from opentree) (4.5.1)\n",
      "Requirement already satisfied: requests>=2.18 in /Users/samuelrapp/miniconda3/lib/python3.8/site-packages (from opentree) (2.24.0)\n",
      "Requirement already satisfied: setuptools in /Users/samuelrapp/miniconda3/lib/python3.8/site-packages (from opentree) (50.3.1.post20201107)\n",
      "Requirement already satisfied: chardet<4,>=3.0.2 in /Users/samuelrapp/miniconda3/lib/python3.8/site-packages (from requests>=2.18->opentree) (3.0.4)\n",
      "Requirement already satisfied: certifi>=2017.4.17 in /Users/samuelrapp/miniconda3/lib/python3.8/site-packages (from requests>=2.18->opentree) (2020.12.5)\n",
      "Requirement already satisfied: idna<3,>=2.5 in /Users/samuelrapp/miniconda3/lib/python3.8/site-packages (from requests>=2.18->opentree) (2.10)\n",
      "Requirement already satisfied: urllib3!=1.25.0,!=1.25.1,<1.26,>=1.21.1 in /Users/samuelrapp/miniconda3/lib/python3.8/site-packages (from requests>=2.18->opentree) (1.25.11)\n"
     ]
    }
   ],
   "source": [
    "!pip install opentree"
   ]
  },
  {
   "cell_type": "code",
   "execution_count": 16,
   "metadata": {},
   "outputs": [],
   "source": [
    "from opentree import OT"
   ]
  },
  {
   "cell_type": "markdown",
   "metadata": {},
   "source": [
    "Get the list of taxa from a textfile.  "
   ]
  },
  {
   "cell_type": "code",
   "execution_count": 1,
   "metadata": {},
   "outputs": [],
   "source": [
    "#fi = open(\"CALeDNAformatT.txt\").readlines()\n",
    "fi = open(\"CALeDNAformatTSHORT.txt\").readlines()"
   ]
  },
  {
   "cell_type": "code",
   "execution_count": 7,
   "metadata": {},
   "outputs": [
    {
     "data": {
      "text/plain": [
       "['Eukaryota',\n",
       " 'Streptophyta',\n",
       " 'Magnoliopsida',\n",
       " 'Asterales',\n",
       " 'Menyanthaceae',\n",
       " 'Nymphoides',\n",
       " 'Nymphoides peltata']"
      ]
     },
     "execution_count": 7,
     "metadata": {},
     "output_type": "execute_result"
    }
   ],
   "source": [
    "fi[35].split(';')\n",
    "#type(fi[3].split(';')) list"
   ]
  },
  {
   "cell_type": "code",
   "execution_count": 8,
   "metadata": {},
   "outputs": [
    {
     "name": "stdout",
     "output_type": "stream",
     "text": [
      "Sargassum muticum\n",
      "\n",
      "Sargassum muticum\n",
      "Sargassum muticum\n"
     ]
    }
   ],
   "source": [
    "tstring=fi[3].split(';')[6]#[1:4]\n",
    "print(tstring)\n",
    "tstring = tstring[:-1]\n",
    "print(tstring)\n",
    "print(tstring)\n",
    "\n",
    "#type(fi[3].split(';')[4]) string"
   ]
  },
  {
   "cell_type": "code",
   "execution_count": 13,
   "metadata": {},
   "outputs": [
    {
     "name": "stdout",
     "output_type": "stream",
     "text": [
      "test\n",
      "Codium fragile subsp. tomentosoides\n",
      "Heterosiphonia\n",
      "Prorocentrum minimum\n",
      "Sargassum muticum\n",
      "Bonnemaisonia hamifera\n",
      "Ficopomatus enigmaticus\n",
      "Teredo navalis\n",
      "Marenzelleria viridis\n",
      "Membranipora membranacea\n",
      "Bugula neritina\n",
      "Cordylophora caspia\n",
      "Ectopleura crocea\n",
      "Mysis diluviana\n",
      "Caprella mutica\n",
      "Amphibalanus improvisus\n",
      "Bythotrephes longimanus\n",
      "Cercopagis pengoi\n",
      "Rhithropanopeus harrisii\n",
      "Orconectes\n",
      "Procambarus clarkii\n",
      "Homarus americanus\n",
      "Crepidula fornicata\n",
      "Mytilopsis leucophaeata\n",
      "Dreissena polymorpha\n",
      "Crassostrea gigas\n",
      "Petricolaria pholadiformis\n",
      "Corbicula fluminea\n",
      "Dreissena rostriformis bugensis\n",
      "Melanoides tuberculata\n",
      "Potamopyrgus antipodarum\n",
      "Caulerpa taxifolia\n",
      "Myriophyllum aquaticum\n",
      "Egeria densa\n",
      "Eichhornia crassipes\n",
      "Hydrilla verticillata\n",
      "Nymphoides peltat\n"
     ]
    }
   ],
   "source": [
    "all_genera = set()\n",
    "print(\"test\")\n",
    "for taxon in fi:\n",
    "    try:\n",
    "        genus = taxon.split(';')[6]\n",
    "        #print(OT.get_ottid_from_name(genus)[6])\n",
    "        genus = genus[:-1] #the -1 removes /n from speciese entries, only include on [6] or species values\n",
    "        all_genera.add(genus)\n",
    "        print(genus)\n",
    "        #print(\"runniing\")\n",
    "    except:\n",
    "        pass\n",
    "        "
   ]
  },
  {
   "cell_type": "code",
   "execution_count": 14,
   "metadata": {},
   "outputs": [
    {
     "data": {
      "text/plain": [
       "36"
      ]
     },
     "execution_count": 14,
     "metadata": {},
     "output_type": "execute_result"
    }
   ],
   "source": [
    "len(all_genera) #692 unique svalues in the column"
   ]
  },
  {
   "cell_type": "code",
   "execution_count": 17,
   "metadata": {},
   "outputs": [
    {
     "data": {
      "text/plain": [
       "271555"
      ]
     },
     "execution_count": 17,
     "metadata": {},
     "output_type": "execute_result"
    }
   ],
   "source": [
    "#teststring = all_genera[2]\n",
    "#teststring = teststrin[:-2]\n",
    "OT.get_ottid_from_name('Rattus norvegicus') #('Sprivivirus')"
   ]
  },
  {
   "cell_type": "code",
   "execution_count": 22,
   "metadata": {},
   "outputs": [],
   "source": [
    "def get_matchdict_from_taxlist(list_of_taxa):\n",
    "        \"\"\"Returns tree object\n",
    "        \"\"\"\n",
    "        matches = dict()\n",
    "        failed = set()\n",
    "        for tax in list_of_taxa:\n",
    "            tax = tax.strip()\n",
    "            print(tax)\n",
    "            if tax != '':\n",
    "                ott_id = OT.get_ottid_from_name(genus)\n",
    "                print(ott_id)\n",
    "                matches[genus] = ott_id"
   ]
  },
  {
   "cell_type": "code",
   "execution_count": 9,
   "metadata": {},
   "outputs": [],
   "source": [
    "#all_genera_test = set()\n",
    "#all_genera_test.add(\"Maeotias\")\n",
    "#type(all_genera_test)\n",
    "#print(all_genera_test)\n",
    "#print(all_genera)\n",
    "#get_matchdict_from_taxlist(all_genera_test)"
   ]
  },
  {
   "cell_type": "code",
   "execution_count": 23,
   "metadata": {},
   "outputs": [
    {
     "name": "stdout",
     "output_type": "stream",
     "text": [
      "Sargassum muticum\n",
      "987409\n",
      "Bonnemaisonia hamifera\n",
      "987409\n",
      "Mysis diluviana\n",
      "987409\n",
      "Rhithropanopeus harrisii\n",
      "987409\n",
      "Prorocentrum minimum\n",
      "987409\n",
      "Hydrilla verticillata\n",
      "987409\n",
      "Marenzelleria viridis\n",
      "987409\n",
      "Ficopomatus enigmaticus\n",
      "987409\n",
      "Codium fragile subsp. tomentosoides\n",
      "987409\n",
      "Homarus americanus\n",
      "987409\n",
      "Heterosiphonia\n",
      "987409\n",
      "Cercopagis pengoi\n",
      "987409\n",
      "Orconectes\n",
      "987409\n",
      "Egeria densa\n",
      "987409\n",
      "Eichhornia crassipes\n",
      "987409\n",
      "Bugula neritina\n",
      "987409\n",
      "Teredo navalis\n",
      "987409\n",
      "Bythotrephes longimanus\n",
      "987409\n",
      "Amphibalanus improvisus\n",
      "987409\n",
      "Crepidula fornicata\n",
      "987409\n",
      "Dreissena polymorpha\n",
      "987409\n",
      "Corbicula fluminea\n",
      "987409\n",
      "Cordylophora caspia\n",
      "987409\n",
      "Membranipora membranacea\n",
      "987409\n",
      "Mytilopsis leucophaeata\n",
      "987409\n",
      "Procambarus clarkii\n",
      "987409\n",
      "Caprella mutica\n",
      "987409\n",
      "Melanoides tuberculata\n",
      "987409\n",
      "Caulerpa taxifolia\n",
      "987409\n",
      "Myriophyllum aquaticum\n",
      "987409\n",
      "Ectopleura crocea\n",
      "987409\n",
      "Nymphoides peltat\n",
      "987409\n",
      "Potamopyrgus antipodarum\n",
      "987409\n",
      "Petricolaria pholadiformis\n",
      "987409\n",
      "Dreissena rostriformis bugensis\n",
      "987409\n",
      "Crassostrea gigas\n",
      "987409\n"
     ]
    }
   ],
   "source": [
    "get_matchdict_from_taxlist(all_genera)"
   ]
  },
  {
   "cell_type": "code",
   "execution_count": 26,
   "metadata": {},
   "outputs": [
    {
     "name": "stdout",
     "output_type": "stream",
     "text": [
      "{'Sargassum muticum', 'Bonnemaisonia hamifera', 'Mysis diluviana', 'Rhithropanopeus harrisii', 'Prorocentrum minimum', 'Hydrilla verticillata', 'Marenzelleria viridis', 'Ficopomatus enigmaticus', 'Codium fragile subsp. tomentosoides', 'Homarus americanus', 'Heterosiphonia', 'Cercopagis pengoi', 'Orconectes', 'Egeria densa', 'Eichhornia crassipes', 'Bugula neritina', 'Teredo navalis', 'Bythotrephes longimanus', 'Amphibalanus improvisus', 'Crepidula fornicata', 'Dreissena polymorpha', 'Corbicula fluminea', 'Cordylophora caspia', 'Membranipora membranacea', 'Mytilopsis leucophaeata', 'Procambarus clarkii', 'Caprella mutica', 'Melanoides tuberculata', 'Caulerpa taxifolia', 'Myriophyllum aquaticum', 'Ectopleura crocea', 'Nymphoides peltat', 'Potamopyrgus antipodarum', 'Petricolaria pholadiformis', 'Dreissena rostriformis bugensis', 'Crassostrea gigas'}\n"
     ]
    }
   ],
   "source": [
    "print(all_genera)"
   ]
  },
  {
   "cell_type": "code",
   "execution_count": 24,
   "metadata": {},
   "outputs": [
    {
     "name": "stderr",
     "output_type": "stream",
     "text": [
      "Exact match to name Melanoides tuberculata not found in taxonomy.\n",
      "Try using `resp = OT.tnrs_match([\"Melanoides tuberculata\"], do_approximate_matching=True)`\n",
      "\n",
      "                                                   resp.response_dict \n",
      "\n",
      "                                        to find fuzzy matches\n",
      "Exact match to name Nymphoides peltat not found in taxonomy.\n",
      "Try using `resp = OT.tnrs_match([\"Nymphoides peltat\"], do_approximate_matching=True)`\n",
      "\n",
      "                                                   resp.response_dict \n",
      "\n",
      "                                        to find fuzzy matches\n"
     ]
    }
   ],
   "source": [
    "matches = dict()\n",
    "ottid_to_genus = dict()\n",
    "for genus in all_genera:\n",
    "    if len(genus) > 2:\n",
    "        try:\n",
    "            ott_id = OT.get_ottid_from_name(genus)\n",
    "            ottid_to_genus['ott{}'.format(ott_id)]=genus\n",
    "            matches[genus] = ott_id\n",
    "        except:\n",
    "          print(\"Failed to get an ottid for {}\".format(genus))"
   ]
  },
  {
   "cell_type": "code",
   "execution_count": 25,
   "metadata": {},
   "outputs": [
    {
     "data": {
      "text/plain": [
       "36"
      ]
     },
     "execution_count": 25,
     "metadata": {},
     "output_type": "execute_result"
    }
   ],
   "source": [
    "len(all_genera)"
   ]
  },
  {
   "cell_type": "code",
   "execution_count": 27,
   "metadata": {},
   "outputs": [
    {
     "ename": "TypeError",
     "evalue": "int() argument must be a string, a bytes-like object or a number, not 'NoneType'",
     "output_type": "error",
     "traceback": [
      "\u001b[0;31m---------------------------------------------------------------------------\u001b[0m",
      "\u001b[0;31mTypeError\u001b[0m                                 Traceback (most recent call last)",
      "\u001b[0;32m<ipython-input-27-d71e996653f5>\u001b[0m in \u001b[0;36m<module>\u001b[0;34m\u001b[0m\n\u001b[0;32m----> 1\u001b[0;31m \u001b[0moutput\u001b[0m \u001b[0;34m=\u001b[0m \u001b[0mOT\u001b[0m\u001b[0;34m.\u001b[0m\u001b[0msynth_induced_tree\u001b[0m\u001b[0;34m(\u001b[0m\u001b[0mott_ids\u001b[0m\u001b[0;34m=\u001b[0m\u001b[0mlist\u001b[0m\u001b[0;34m(\u001b[0m\u001b[0mmatches\u001b[0m\u001b[0;34m.\u001b[0m\u001b[0mvalues\u001b[0m\u001b[0;34m(\u001b[0m\u001b[0;34m)\u001b[0m\u001b[0;34m)\u001b[0m\u001b[0;34m,\u001b[0m  \u001b[0mlabel_format\u001b[0m\u001b[0;34m=\u001b[0m\u001b[0;34m'name_and_id'\u001b[0m\u001b[0;34m)\u001b[0m\u001b[0;34m\u001b[0m\u001b[0;34m\u001b[0m\u001b[0m\n\u001b[0m",
      "\u001b[0;32m~/GitHub/python-opentree/opentree/ot_object.py\u001b[0m in \u001b[0;36msynth_induced_tree\u001b[0;34m(self, node_ids, ott_ids, label_format, ignore_unknown_ids)\u001b[0m\n\u001b[1;32m    356\u001b[0m         \"\"\"\n\u001b[1;32m    357\u001b[0m         \u001b[0;32mwhile\u001b[0m \u001b[0;32mTrue\u001b[0m\u001b[0;34m:\u001b[0m\u001b[0;34m\u001b[0m\u001b[0;34m\u001b[0m\u001b[0m\n\u001b[0;32m--> 358\u001b[0;31m             call_record = self.ws.tree_of_life_induced_subtree(node_ids=node_ids,\n\u001b[0m\u001b[1;32m    359\u001b[0m                                                                \u001b[0mott_ids\u001b[0m\u001b[0;34m=\u001b[0m\u001b[0mott_ids\u001b[0m\u001b[0;34m,\u001b[0m\u001b[0;34m\u001b[0m\u001b[0;34m\u001b[0m\u001b[0m\n\u001b[1;32m    360\u001b[0m                                                                label_format=label_format)\n",
      "\u001b[0;32m~/GitHub/python-opentree/opentree/ot_ws_wrapper.py\u001b[0m in \u001b[0;36mtree_of_life_induced_subtree\u001b[0;34m(self, node_ids, ott_ids, label_format)\u001b[0m\n\u001b[1;32m    131\u001b[0m             \u001b[0md\u001b[0m\u001b[0;34m[\u001b[0m\u001b[0;34m\"node_ids\"\u001b[0m\u001b[0;34m]\u001b[0m \u001b[0;34m=\u001b[0m \u001b[0;34m[\u001b[0m\u001b[0mstr\u001b[0m\u001b[0;34m(\u001b[0m\u001b[0mi\u001b[0m\u001b[0;34m)\u001b[0m \u001b[0;32mfor\u001b[0m \u001b[0mi\u001b[0m \u001b[0;32min\u001b[0m \u001b[0mnode_ids\u001b[0m\u001b[0;34m]\u001b[0m\u001b[0;34m\u001b[0m\u001b[0;34m\u001b[0m\u001b[0m\n\u001b[1;32m    132\u001b[0m         \u001b[0;32mif\u001b[0m \u001b[0mott_ids\u001b[0m\u001b[0;34m:\u001b[0m\u001b[0;34m\u001b[0m\u001b[0;34m\u001b[0m\u001b[0m\n\u001b[0;32m--> 133\u001b[0;31m             \u001b[0md\u001b[0m\u001b[0;34m[\u001b[0m\u001b[0;34m\"ott_ids\"\u001b[0m\u001b[0;34m]\u001b[0m \u001b[0;34m=\u001b[0m \u001b[0;34m[\u001b[0m\u001b[0mint\u001b[0m\u001b[0;34m(\u001b[0m\u001b[0mi\u001b[0m\u001b[0;34m)\u001b[0m \u001b[0;32mfor\u001b[0m \u001b[0mi\u001b[0m \u001b[0;32min\u001b[0m \u001b[0mott_ids\u001b[0m\u001b[0;34m]\u001b[0m\u001b[0;34m\u001b[0m\u001b[0;34m\u001b[0m\u001b[0m\n\u001b[0m\u001b[1;32m    134\u001b[0m         \u001b[0;32mreturn\u001b[0m \u001b[0mself\u001b[0m\u001b[0;34m.\u001b[0m\u001b[0m_call_api\u001b[0m\u001b[0;34m(\u001b[0m\u001b[0;34m'tree_of_life/induced_subtree'\u001b[0m\u001b[0;34m,\u001b[0m \u001b[0mdata\u001b[0m\u001b[0;34m=\u001b[0m\u001b[0md\u001b[0m\u001b[0;34m,\u001b[0m \u001b[0mdemand_success\u001b[0m\u001b[0;34m=\u001b[0m\u001b[0;32mFalse\u001b[0m\u001b[0;34m)\u001b[0m\u001b[0;34m\u001b[0m\u001b[0;34m\u001b[0m\u001b[0m\n\u001b[1;32m    135\u001b[0m \u001b[0;34m\u001b[0m\u001b[0m\n",
      "\u001b[0;32m~/GitHub/python-opentree/opentree/ot_ws_wrapper.py\u001b[0m in \u001b[0;36m<listcomp>\u001b[0;34m(.0)\u001b[0m\n\u001b[1;32m    131\u001b[0m             \u001b[0md\u001b[0m\u001b[0;34m[\u001b[0m\u001b[0;34m\"node_ids\"\u001b[0m\u001b[0;34m]\u001b[0m \u001b[0;34m=\u001b[0m \u001b[0;34m[\u001b[0m\u001b[0mstr\u001b[0m\u001b[0;34m(\u001b[0m\u001b[0mi\u001b[0m\u001b[0;34m)\u001b[0m \u001b[0;32mfor\u001b[0m \u001b[0mi\u001b[0m \u001b[0;32min\u001b[0m \u001b[0mnode_ids\u001b[0m\u001b[0;34m]\u001b[0m\u001b[0;34m\u001b[0m\u001b[0;34m\u001b[0m\u001b[0m\n\u001b[1;32m    132\u001b[0m         \u001b[0;32mif\u001b[0m \u001b[0mott_ids\u001b[0m\u001b[0;34m:\u001b[0m\u001b[0;34m\u001b[0m\u001b[0;34m\u001b[0m\u001b[0m\n\u001b[0;32m--> 133\u001b[0;31m             \u001b[0md\u001b[0m\u001b[0;34m[\u001b[0m\u001b[0;34m\"ott_ids\"\u001b[0m\u001b[0;34m]\u001b[0m \u001b[0;34m=\u001b[0m \u001b[0;34m[\u001b[0m\u001b[0mint\u001b[0m\u001b[0;34m(\u001b[0m\u001b[0mi\u001b[0m\u001b[0;34m)\u001b[0m \u001b[0;32mfor\u001b[0m \u001b[0mi\u001b[0m \u001b[0;32min\u001b[0m \u001b[0mott_ids\u001b[0m\u001b[0;34m]\u001b[0m\u001b[0;34m\u001b[0m\u001b[0;34m\u001b[0m\u001b[0m\n\u001b[0m\u001b[1;32m    134\u001b[0m         \u001b[0;32mreturn\u001b[0m \u001b[0mself\u001b[0m\u001b[0;34m.\u001b[0m\u001b[0m_call_api\u001b[0m\u001b[0;34m(\u001b[0m\u001b[0;34m'tree_of_life/induced_subtree'\u001b[0m\u001b[0;34m,\u001b[0m \u001b[0mdata\u001b[0m\u001b[0;34m=\u001b[0m\u001b[0md\u001b[0m\u001b[0;34m,\u001b[0m \u001b[0mdemand_success\u001b[0m\u001b[0;34m=\u001b[0m\u001b[0;32mFalse\u001b[0m\u001b[0;34m)\u001b[0m\u001b[0;34m\u001b[0m\u001b[0;34m\u001b[0m\u001b[0m\n\u001b[1;32m    135\u001b[0m \u001b[0;34m\u001b[0m\u001b[0m\n",
      "\u001b[0;31mTypeError\u001b[0m: int() argument must be a string, a bytes-like object or a number, not 'NoneType'"
     ]
    }
   ],
   "source": [
    "output = OT.synth_induced_tree(ott_ids=list(matches.values()),  label_format='name_and_id')"
   ]
  },
  {
   "cell_type": "code",
   "execution_count": 14,
   "metadata": {},
   "outputs": [
    {
     "ename": "NameError",
     "evalue": "name 'output' is not defined",
     "output_type": "error",
     "traceback": [
      "\u001b[0;31m---------------------------------------------------------------------------\u001b[0m",
      "\u001b[0;31mNameError\u001b[0m                                 Traceback (most recent call last)",
      "\u001b[0;32m<ipython-input-14-c2a815c001df>\u001b[0m in \u001b[0;36m<module>\u001b[0;34m\u001b[0m\n\u001b[1;32m      1\u001b[0m \u001b[0;31m#Create a dictionary that matches the taxa that are returned with the input taxa requested.\u001b[0m\u001b[0;34m\u001b[0m\u001b[0;34m\u001b[0m\u001b[0;34m\u001b[0m\u001b[0m\n\u001b[1;32m      2\u001b[0m \u001b[0mrelabel\u001b[0m \u001b[0;34m=\u001b[0m \u001b[0mdict\u001b[0m\u001b[0;34m(\u001b[0m\u001b[0;34m)\u001b[0m\u001b[0;34m\u001b[0m\u001b[0;34m\u001b[0m\u001b[0m\n\u001b[0;32m----> 3\u001b[0;31m \u001b[0mbroken\u001b[0m \u001b[0;34m=\u001b[0m \u001b[0moutput\u001b[0m\u001b[0;34m.\u001b[0m\u001b[0mresponse_dict\u001b[0m\u001b[0;34m[\u001b[0m\u001b[0;34m'broken'\u001b[0m\u001b[0;34m]\u001b[0m\u001b[0;34m\u001b[0m\u001b[0;34m\u001b[0m\u001b[0m\n\u001b[0m\u001b[1;32m      4\u001b[0m \u001b[0;32mfor\u001b[0m \u001b[0mtaxon\u001b[0m \u001b[0;32min\u001b[0m \u001b[0mbroken\u001b[0m\u001b[0;34m:\u001b[0m\u001b[0;34m\u001b[0m\u001b[0;34m\u001b[0m\u001b[0m\n\u001b[1;32m      5\u001b[0m     \u001b[0mremap\u001b[0m \u001b[0;34m=\u001b[0m \u001b[0mbroken\u001b[0m\u001b[0;34m[\u001b[0m\u001b[0mtaxon\u001b[0m\u001b[0;34m]\u001b[0m\u001b[0;34m\u001b[0m\u001b[0;34m\u001b[0m\u001b[0m\n",
      "\u001b[0;31mNameError\u001b[0m: name 'output' is not defined"
     ]
    }
   ],
   "source": [
    "#Create a dictionary that matches the taxa that are returned with the input taxa requested.\n",
    "relabel = dict()\n",
    "broken = output.response_dict['broken']\n",
    "for taxon in broken:\n",
    "    remap = broken[taxon]\n",
    "    if remap.startswith('mrca'):\n",
    "        if remap not in relabel:\n",
    "            relabel[remap] = []\n",
    "        relabel[remap].append(\"{} {}\".format(ottid_to_genus[taxon], taxon))\n",
    "    if remap.startswith('ott'):\n",
    "        if remap not in relabel:\n",
    "            relabel[remap] = []\n",
    "        relabel[remap].append(\"{} {}\".format(ottid_to_genus[taxon], taxon))"
   ]
  },
  {
   "cell_type": "code",
   "execution_count": 15,
   "metadata": {},
   "outputs": [
    {
     "ename": "NameError",
     "evalue": "name 'output' is not defined",
     "output_type": "error",
     "traceback": [
      "\u001b[0;31m---------------------------------------------------------------------------\u001b[0m",
      "\u001b[0;31mNameError\u001b[0m                                 Traceback (most recent call last)",
      "\u001b[0;32m<ipython-input-15-b33b5cadbe54>\u001b[0m in \u001b[0;36m<module>\u001b[0;34m\u001b[0m\n\u001b[1;32m      1\u001b[0m \u001b[0;32mimport\u001b[0m \u001b[0mcopy\u001b[0m\u001b[0;34m\u001b[0m\u001b[0;34m\u001b[0m\u001b[0m\n\u001b[0;32m----> 2\u001b[0;31m \u001b[0mbackuptree\u001b[0m \u001b[0;34m=\u001b[0m \u001b[0mcopy\u001b[0m\u001b[0;34m.\u001b[0m\u001b[0mdeepcopy\u001b[0m\u001b[0;34m(\u001b[0m\u001b[0moutput\u001b[0m\u001b[0;34m.\u001b[0m\u001b[0mtree\u001b[0m\u001b[0;34m)\u001b[0m\u001b[0;34m\u001b[0m\u001b[0;34m\u001b[0m\u001b[0m\n\u001b[0m",
      "\u001b[0;31mNameError\u001b[0m: name 'output' is not defined"
     ]
    }
   ],
   "source": [
    "import copy\n",
    "backuptree = copy.deepcopy(output.tree)"
   ]
  },
  {
   "cell_type": "code",
   "execution_count": 16,
   "metadata": {},
   "outputs": [
    {
     "ename": "NameError",
     "evalue": "name 'backuptree' is not defined",
     "output_type": "error",
     "traceback": [
      "\u001b[0;31m---------------------------------------------------------------------------\u001b[0m",
      "\u001b[0;31mNameError\u001b[0m                                 Traceback (most recent call last)",
      "\u001b[0;32m<ipython-input-16-3696dab3b6b9>\u001b[0m in \u001b[0;36m<module>\u001b[0;34m\u001b[0m\n\u001b[1;32m      1\u001b[0m \u001b[0;31m#Gos through each taxon in teh tree that is returned, and matches it to the rquested genus or genera, and adds those to the label\u001b[0m\u001b[0;34m\u001b[0m\u001b[0;34m\u001b[0m\u001b[0;34m\u001b[0m\u001b[0m\n\u001b[0;32m----> 2\u001b[0;31m \u001b[0;32mfor\u001b[0m \u001b[0mtaxon\u001b[0m \u001b[0;32min\u001b[0m \u001b[0mbackuptree\u001b[0m\u001b[0;34m.\u001b[0m\u001b[0mtaxon_namespace\u001b[0m\u001b[0;34m:\u001b[0m\u001b[0;34m\u001b[0m\u001b[0;34m\u001b[0m\u001b[0m\n\u001b[0m\u001b[1;32m      3\u001b[0m     \u001b[0;32mif\u001b[0m \u001b[0mtaxon\u001b[0m\u001b[0;34m.\u001b[0m\u001b[0mlabel\u001b[0m\u001b[0;34m.\u001b[0m\u001b[0mstartswith\u001b[0m\u001b[0;34m(\u001b[0m\u001b[0;34m'mrca'\u001b[0m\u001b[0;34m)\u001b[0m\u001b[0;34m:\u001b[0m\u001b[0;34m\u001b[0m\u001b[0;34m\u001b[0m\u001b[0m\n\u001b[1;32m      4\u001b[0m         \u001b[0mtaxon\u001b[0m\u001b[0;34m.\u001b[0m\u001b[0mlabel\u001b[0m \u001b[0;34m=\u001b[0m \u001b[0;34m'MRCA of taxa in '\u001b[0m\u001b[0;34m+\u001b[0m\u001b[0;34m' '\u001b[0m\u001b[0;34m.\u001b[0m\u001b[0mjoin\u001b[0m\u001b[0;34m(\u001b[0m\u001b[0mrelabel\u001b[0m\u001b[0;34m[\u001b[0m\u001b[0mtaxon\u001b[0m\u001b[0;34m.\u001b[0m\u001b[0mlabel\u001b[0m\u001b[0;34m]\u001b[0m\u001b[0;34m)\u001b[0m\u001b[0;34m\u001b[0m\u001b[0;34m\u001b[0m\u001b[0m\n\u001b[1;32m      5\u001b[0m     \u001b[0;32melse\u001b[0m\u001b[0;34m:\u001b[0m\u001b[0;34m\u001b[0m\u001b[0;34m\u001b[0m\u001b[0m\n",
      "\u001b[0;31mNameError\u001b[0m: name 'backuptree' is not defined"
     ]
    }
   ],
   "source": [
    "#Gos through each taxon in teh tree that is returned, and matches it to the rquested genus or genera, and adds those to the label\n",
    "for taxon in backuptree.taxon_namespace:\n",
    "    if taxon.label.startswith('mrca'):\n",
    "        taxon.label = 'MRCA of taxa in '+' '.join(relabel[taxon.label])\n",
    "    else:\n",
    "        ott = taxon.label.split()[-1]\n",
    "        if ott in relabel:\n",
    "            added_taxa = ' MRCA of taxa in '+' '.join(relabel[ott])\n",
    "            taxon.label = taxon.label + added_taxa"
   ]
  },
  {
   "cell_type": "code",
   "execution_count": 17,
   "metadata": {},
   "outputs": [],
   "source": [
    "# Some characters in names mess up newick tree readers\n",
    "def remove_problem_characters(instr, prob_char = \"():#\", replace_w = '?'):\n",
    "    problem_characters = set(prob_char)\n",
    "    for char in problem_characters:\n",
    "        instr = instr.replace(char,replace_w)\n",
    "    return instr"
   ]
  },
  {
   "cell_type": "code",
   "execution_count": 18,
   "metadata": {},
   "outputs": [
    {
     "ename": "NameError",
     "evalue": "name 'backuptree' is not defined",
     "output_type": "error",
     "traceback": [
      "\u001b[0;31m---------------------------------------------------------------------------\u001b[0m",
      "\u001b[0;31mNameError\u001b[0m                                 Traceback (most recent call last)",
      "\u001b[0;32m<ipython-input-18-b03352b6e759>\u001b[0m in \u001b[0;36m<module>\u001b[0;34m\u001b[0m\n\u001b[1;32m      1\u001b[0m \u001b[0;31m#Some of these taxon names are still causing issues...\u001b[0m\u001b[0;34m\u001b[0m\u001b[0;34m\u001b[0m\u001b[0;34m\u001b[0m\u001b[0m\n\u001b[0;32m----> 2\u001b[0;31m \u001b[0;32mfor\u001b[0m \u001b[0mtaxon\u001b[0m \u001b[0;32min\u001b[0m \u001b[0mbackuptree\u001b[0m\u001b[0;34m.\u001b[0m\u001b[0mtaxon_namespace\u001b[0m\u001b[0;34m:\u001b[0m\u001b[0;34m\u001b[0m\u001b[0;34m\u001b[0m\u001b[0m\n\u001b[0m\u001b[1;32m      3\u001b[0m     \u001b[0mtaxon\u001b[0m\u001b[0;34m.\u001b[0m\u001b[0mlabel\u001b[0m \u001b[0;34m=\u001b[0m \u001b[0mremove_problem_characters\u001b[0m\u001b[0;34m(\u001b[0m\u001b[0mtaxon\u001b[0m\u001b[0;34m.\u001b[0m\u001b[0mlabel\u001b[0m\u001b[0;34m)\u001b[0m\u001b[0;34m\u001b[0m\u001b[0;34m\u001b[0m\u001b[0m\n\u001b[1;32m      4\u001b[0m \u001b[0;34m\u001b[0m\u001b[0m\n\u001b[1;32m      5\u001b[0m \u001b[0;32mfor\u001b[0m \u001b[0mnode\u001b[0m \u001b[0;32min\u001b[0m \u001b[0mbackuptree\u001b[0m\u001b[0;34m:\u001b[0m\u001b[0;34m\u001b[0m\u001b[0;34m\u001b[0m\u001b[0m\n",
      "\u001b[0;31mNameError\u001b[0m: name 'backuptree' is not defined"
     ]
    }
   ],
   "source": [
    "#Some of these taxon names are still causing issues...\n",
    "for taxon in backuptree.taxon_namespace:\n",
    "    taxon.label = remove_problem_characters(taxon.label)\n",
    "\n",
    "for node in backuptree:\n",
    "    if node.label:\n",
    "        node.label = remove_problem_characters(node.label)"
   ]
  },
  {
   "cell_type": "code",
   "execution_count": 19,
   "metadata": {},
   "outputs": [
    {
     "ename": "NameError",
     "evalue": "name 'backuptree' is not defined",
     "output_type": "error",
     "traceback": [
      "\u001b[0;31m---------------------------------------------------------------------------\u001b[0m",
      "\u001b[0;31mNameError\u001b[0m                                 Traceback (most recent call last)",
      "\u001b[0;32m<ipython-input-19-67c58fcfd3d6>\u001b[0m in \u001b[0;36m<module>\u001b[0;34m\u001b[0m\n\u001b[0;32m----> 1\u001b[0;31m \u001b[0mbackuptree\u001b[0m\u001b[0;34m.\u001b[0m\u001b[0mprint_plot\u001b[0m\u001b[0;34m(\u001b[0m\u001b[0mwidth\u001b[0m\u001b[0;34m=\u001b[0m\u001b[0;36m100\u001b[0m\u001b[0;34m)\u001b[0m\u001b[0;34m\u001b[0m\u001b[0;34m\u001b[0m\u001b[0m\n\u001b[0m\u001b[1;32m      2\u001b[0m \u001b[0mtreefile\u001b[0m \u001b[0;34m=\u001b[0m \u001b[0;34m\"bigbio_clean.tre\"\u001b[0m\u001b[0;34m\u001b[0m\u001b[0;34m\u001b[0m\u001b[0m\n\u001b[1;32m      3\u001b[0m \u001b[0mbackuptree\u001b[0m\u001b[0;34m.\u001b[0m\u001b[0mwrite\u001b[0m\u001b[0;34m(\u001b[0m\u001b[0mpath\u001b[0m \u001b[0;34m=\u001b[0m \u001b[0mtreefile\u001b[0m\u001b[0;34m,\u001b[0m \u001b[0mschema\u001b[0m \u001b[0;34m=\u001b[0m \u001b[0;34m\"newick\"\u001b[0m\u001b[0;34m)\u001b[0m\u001b[0;34m\u001b[0m\u001b[0;34m\u001b[0m\u001b[0m\n",
      "\u001b[0;31mNameError\u001b[0m: name 'backuptree' is not defined"
     ]
    }
   ],
   "source": [
    "backuptree.print_plot(width=100)\n",
    "treefile = \"bigbio_clean.tre\"\n",
    "backuptree.write(path = treefile, schema = \"newick\")"
   ]
  },
  {
   "cell_type": "code",
   "execution_count": 20,
   "metadata": {},
   "outputs": [
    {
     "ename": "NameError",
     "evalue": "name 'output' is not defined",
     "output_type": "error",
     "traceback": [
      "\u001b[0;31m---------------------------------------------------------------------------\u001b[0m",
      "\u001b[0;31mNameError\u001b[0m                                 Traceback (most recent call last)",
      "\u001b[0;32m<ipython-input-20-186191d4dbe6>\u001b[0m in \u001b[0;36m<module>\u001b[0;34m\u001b[0m\n\u001b[0;32m----> 1\u001b[0;31m \u001b[0mstudies\u001b[0m \u001b[0;34m=\u001b[0m \u001b[0moutput\u001b[0m\u001b[0;34m.\u001b[0m\u001b[0mresponse_dict\u001b[0m\u001b[0;34m[\u001b[0m\u001b[0;34m'supporting_studies'\u001b[0m\u001b[0;34m]\u001b[0m\u001b[0;34m\u001b[0m\u001b[0;34m\u001b[0m\u001b[0m\n\u001b[0m\u001b[1;32m      2\u001b[0m \u001b[0mcites\u001b[0m \u001b[0;34m=\u001b[0m \u001b[0mOT\u001b[0m\u001b[0;34m.\u001b[0m\u001b[0mget_citations\u001b[0m\u001b[0;34m(\u001b[0m\u001b[0mstudies\u001b[0m\u001b[0;34m)\u001b[0m \u001b[0;31m#this can be a bit slow\u001b[0m\u001b[0;34m\u001b[0m\u001b[0;34m\u001b[0m\u001b[0m\n\u001b[1;32m      3\u001b[0m \u001b[0mprint\u001b[0m\u001b[0;34m(\u001b[0m\u001b[0mcites\u001b[0m\u001b[0;34m)\u001b[0m\u001b[0;34m\u001b[0m\u001b[0;34m\u001b[0m\u001b[0m\n",
      "\u001b[0;31mNameError\u001b[0m: name 'output' is not defined"
     ]
    }
   ],
   "source": [
    "studies = output.response_dict['supporting_studies']\n",
    "cites = OT.get_citations(studies) #this can be a bit slow\n",
    "print(cites)"
   ]
  },
  {
   "cell_type": "code",
   "execution_count": null,
   "metadata": {},
   "outputs": [],
   "source": []
  },
  {
   "cell_type": "code",
   "execution_count": null,
   "metadata": {},
   "outputs": [],
   "source": []
  },
  {
   "cell_type": "code",
   "execution_count": null,
   "metadata": {},
   "outputs": [],
   "source": []
  },
  {
   "cell_type": "code",
   "execution_count": null,
   "metadata": {},
   "outputs": [],
   "source": []
  }
 ],
 "metadata": {
  "kernelspec": {
   "display_name": "Python 3",
   "language": "python",
   "name": "python3"
  },
  "language_info": {
   "codemirror_mode": {
    "name": "ipython",
    "version": 3
   },
   "file_extension": ".py",
   "mimetype": "text/x-python",
   "name": "python",
   "nbconvert_exporter": "python",
   "pygments_lexer": "ipython3",
   "version": "3.8.5"
  }
 },
 "nbformat": 4,
 "nbformat_minor": 2
}
